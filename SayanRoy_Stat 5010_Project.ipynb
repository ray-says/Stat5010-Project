{
 "cells": [
  {
   "cell_type": "code",
   "execution_count": 70,
   "metadata": {
    "colab": {
     "base_uri": "https://localhost:8080/"
    },
    "id": "okI0oQOX2Kfa",
    "outputId": "d809109b-47c5-430c-ee31-360000e72017"
   },
   "outputs": [],
   "source": [
    "library(readr)\n",
    "library(dplyr)\n",
    "library(ggplot2)"
   ]
  },
  {
   "cell_type": "code",
   "execution_count": 71,
   "metadata": {
    "colab": {
     "base_uri": "https://localhost:8080/",
     "height": 1000
    },
    "id": "n93x8Kjr-JVP",
    "outputId": "2d6c3a99-a8d9-49f2-ead5-3d76756afaaa"
   },
   "outputs": [
    {
     "name": "stderr",
     "output_type": "stream",
     "text": [
      "\u001b[1m\u001b[22mNew names:\n",
      "\u001b[36m•\u001b[39m `` -> `...1`\n",
      "\u001b[1mRows: \u001b[22m\u001b[34m336\u001b[39m \u001b[1mColumns: \u001b[22m\u001b[34m35\u001b[39m\n",
      "\u001b[36m──\u001b[39m \u001b[1mColumn specification\u001b[22m \u001b[36m────────────────────────────────────────────────────────────────────────────────────────────────\u001b[39m\n",
      "\u001b[1mDelimiter:\u001b[22m \",\"\n",
      "\u001b[31mchr\u001b[39m  (4): state, breath, jail, service\n",
      "\u001b[32mdbl\u001b[39m (31): ...1, year, spirits, unemp, income, emppop, beertax, baptist, morm...\n",
      "\n",
      "\u001b[36mℹ\u001b[39m Use `spec()` to retrieve the full column specification for this data.\n",
      "\u001b[36mℹ\u001b[39m Specify the column types or set `show_col_types = FALSE` to quiet this message.\n"
     ]
    },
    {
     "data": {
      "text/plain": [
       "      ...1           state                year         spirits     \n",
       " Min.   :  1.00   Length:336         Min.   :1982   Min.   :0.790  \n",
       " 1st Qu.: 84.75   Class :character   1st Qu.:1983   1st Qu.:1.300  \n",
       " Median :168.50   Mode  :character   Median :1985   Median :1.670  \n",
       " Mean   :168.50                      Mean   :1985   Mean   :1.754  \n",
       " 3rd Qu.:252.25                      3rd Qu.:1987   3rd Qu.:2.013  \n",
       " Max.   :336.00                      Max.   :1988   Max.   :4.900  \n",
       "     unemp            income          emppop         beertax       \n",
       " Min.   : 2.400   Min.   : 9514   Min.   :42.99   Min.   :0.04331  \n",
       " 1st Qu.: 5.475   1st Qu.:12086   1st Qu.:57.69   1st Qu.:0.20885  \n",
       " Median : 7.000   Median :13763   Median :61.36   Median :0.35259  \n",
       " Mean   : 7.347   Mean   :13880   Mean   :60.81   Mean   :0.51326  \n",
       " 3rd Qu.: 8.900   3rd Qu.:15175   3rd Qu.:64.41   3rd Qu.:0.65157  \n",
       " Max.   :18.000   Max.   :22193   Max.   :71.27   Max.   :2.72076  \n",
       "    baptist            mormon           drinkage          dry          \n",
       " Min.   : 0.0000   Min.   : 0.1000   Min.   :18.00   Min.   : 0.00000  \n",
       " 1st Qu.: 0.6268   1st Qu.: 0.2722   1st Qu.:20.00   1st Qu.: 0.00000  \n",
       " Median : 1.7492   Median : 0.3931   Median :21.00   Median : 0.08681  \n",
       " Mean   : 7.1569   Mean   : 2.8019   Mean   :20.46   Mean   : 4.26707  \n",
       " 3rd Qu.:13.1271   3rd Qu.: 0.6293   3rd Qu.:21.00   3rd Qu.: 2.42481  \n",
       " Max.   :30.3557   Max.   :65.9165   Max.   :21.00   Max.   :45.79210  \n",
       "  youngdrivers         miles          breath              jail          \n",
       " Min.   :0.07314   Min.   : 4576   Length:336         Length:336        \n",
       " 1st Qu.:0.17037   1st Qu.: 7183   Class :character   Class :character  \n",
       " Median :0.18539   Median : 7796   Mode  :character   Mode  :character  \n",
       " Mean   :0.18593   Mean   : 7891                                        \n",
       " 3rd Qu.:0.20219   3rd Qu.: 8504                                        \n",
       " Max.   :0.28163   Max.   :26148                                        \n",
       "   service              fatal            nfatal            sfatal     \n",
       " Length:336         Min.   :  79.0   Min.   :  13.00   Min.   :  8.0  \n",
       " Class :character   1st Qu.: 293.8   1st Qu.:  53.75   1st Qu.: 35.0  \n",
       " Mode  :character   Median : 701.0   Median : 135.00   Median : 81.0  \n",
       "                    Mean   : 928.7   Mean   : 182.58   Mean   :109.9  \n",
       "                    3rd Qu.:1063.5   3rd Qu.: 212.00   3rd Qu.:131.0  \n",
       "                    Max.   :5504.0   Max.   :1049.00   Max.   :603.0  \n",
       "   fatal1517        nfatal1517      fatal1820       nfatal1820    \n",
       " Min.   :  3.00   Min.   : 0.00   Min.   :  7.0   Min.   :  0.00  \n",
       " 1st Qu.: 25.75   1st Qu.: 4.00   1st Qu.: 38.0   1st Qu.: 11.00  \n",
       " Median : 49.00   Median :10.00   Median : 82.0   Median : 24.00  \n",
       " Mean   : 62.61   Mean   :12.26   Mean   :106.7   Mean   : 33.53  \n",
       " 3rd Qu.: 77.00   3rd Qu.:15.25   3rd Qu.:130.2   3rd Qu.: 44.00  \n",
       " Max.   :318.00   Max.   :76.00   Max.   :601.0   Max.   :196.00  \n",
       "   fatal2124       nfatal2124         afatal            pop          \n",
       " Min.   : 12.0   Min.   :  1.00   Min.   :  24.6   Min.   :  479000  \n",
       " 1st Qu.: 42.0   1st Qu.: 13.00   1st Qu.:  90.5   1st Qu.: 1545251  \n",
       " Median : 97.5   Median : 30.00   Median : 211.6   Median : 3310503  \n",
       " Mean   :126.9   Mean   : 41.38   Mean   : 293.3   Mean   : 4930272  \n",
       " 3rd Qu.:150.5   3rd Qu.: 49.00   3rd Qu.: 364.0   3rd Qu.: 5751735  \n",
       " Max.   :770.0   Max.   :249.00   Max.   :2094.9   Max.   :28314028  \n",
       "    pop1517           pop1820           pop2124           milestot     \n",
       " Min.   :  21000   Min.   :  21000   Min.   :  30000   Min.   :  3993  \n",
       " 1st Qu.:  71750   1st Qu.:  76962   1st Qu.: 103500   1st Qu.: 11692  \n",
       " Median : 163000   Median : 170982   Median : 241000   Median : 28484  \n",
       " Mean   : 230816   Mean   : 249090   Mean   : 336390   Mean   : 37101  \n",
       " 3rd Qu.: 270500   3rd Qu.: 308311   3rd Qu.: 413000   3rd Qu.: 44140  \n",
       " Max.   :1172000   Max.   :1321004   Max.   :1892998   Max.   :241575  \n",
       "    unempus         emppopus          gsp           \n",
       " Min.   :5.500   Min.   :57.80   Min.   :-0.123641  \n",
       " 1st Qu.:6.200   1st Qu.:57.90   1st Qu.: 0.001182  \n",
       " Median :7.200   Median :60.10   Median : 0.032413  \n",
       " Mean   :7.529   Mean   :59.97   Mean   : 0.025313  \n",
       " 3rd Qu.:9.600   3rd Qu.:61.50   3rd Qu.: 0.056501  \n",
       " Max.   :9.700   Max.   :62.30   Max.   : 0.142361  "
      ]
     },
     "metadata": {},
     "output_type": "display_data"
    }
   ],
   "source": [
    "fatalities_df <- read_csv(\"Fatalities.csv\")\n",
    "summary(fatalities_df)"
   ]
  },
  {
   "cell_type": "code",
   "execution_count": 72,
   "metadata": {
    "colab": {
     "base_uri": "https://localhost:8080/",
     "height": 306
    },
    "id": "7pWijGCr-Rsb",
    "outputId": "92d4d398-d7f7-4e21-b2e4-202af11d9fca"
   },
   "outputs": [
    {
     "data": {
      "text/html": [
       "<table class=\"dataframe\">\n",
       "<caption>A tibble: 6 × 35</caption>\n",
       "<thead>\n",
       "\t<tr><th scope=col>...1</th><th scope=col>state</th><th scope=col>year</th><th scope=col>spirits</th><th scope=col>unemp</th><th scope=col>income</th><th scope=col>emppop</th><th scope=col>beertax</th><th scope=col>baptist</th><th scope=col>mormon</th><th scope=col>⋯</th><th scope=col>nfatal2124</th><th scope=col>afatal</th><th scope=col>pop</th><th scope=col>pop1517</th><th scope=col>pop1820</th><th scope=col>pop2124</th><th scope=col>milestot</th><th scope=col>unempus</th><th scope=col>emppopus</th><th scope=col>gsp</th></tr>\n",
       "\t<tr><th scope=col>&lt;dbl&gt;</th><th scope=col>&lt;chr&gt;</th><th scope=col>&lt;dbl&gt;</th><th scope=col>&lt;dbl&gt;</th><th scope=col>&lt;dbl&gt;</th><th scope=col>&lt;dbl&gt;</th><th scope=col>&lt;dbl&gt;</th><th scope=col>&lt;dbl&gt;</th><th scope=col>&lt;dbl&gt;</th><th scope=col>&lt;dbl&gt;</th><th scope=col>⋯</th><th scope=col>&lt;dbl&gt;</th><th scope=col>&lt;dbl&gt;</th><th scope=col>&lt;dbl&gt;</th><th scope=col>&lt;dbl&gt;</th><th scope=col>&lt;dbl&gt;</th><th scope=col>&lt;dbl&gt;</th><th scope=col>&lt;dbl&gt;</th><th scope=col>&lt;dbl&gt;</th><th scope=col>&lt;dbl&gt;</th><th scope=col>&lt;dbl&gt;</th></tr>\n",
       "</thead>\n",
       "<tbody>\n",
       "\t<tr><td>1</td><td>al</td><td>1982</td><td>1.37</td><td>14.4</td><td>10544.15</td><td>50.69204</td><td>1.539379</td><td>30.3557</td><td>0.32829</td><td>⋯</td><td>32</td><td>309.438</td><td>3942002</td><td>208999.6</td><td>221553.4</td><td>290000.1</td><td>28516</td><td>9.7</td><td>57.8</td><td>-0.02212476</td></tr>\n",
       "\t<tr><td>2</td><td>al</td><td>1983</td><td>1.36</td><td>13.7</td><td>10732.80</td><td>52.14703</td><td>1.788991</td><td>30.3336</td><td>0.34341</td><td>⋯</td><td>35</td><td>341.834</td><td>3960008</td><td>202000.1</td><td>219125.5</td><td>290000.2</td><td>31032</td><td>9.6</td><td>57.9</td><td> 0.04655825</td></tr>\n",
       "\t<tr><td>3</td><td>al</td><td>1984</td><td>1.32</td><td>11.1</td><td>11108.79</td><td>54.16809</td><td>1.714286</td><td>30.3115</td><td>0.35924</td><td>⋯</td><td>34</td><td>304.872</td><td>3988992</td><td>197000.0</td><td>216724.1</td><td>288000.2</td><td>32961</td><td>7.5</td><td>59.5</td><td> 0.06279784</td></tr>\n",
       "\t<tr><td>4</td><td>al</td><td>1985</td><td>1.28</td><td> 8.9</td><td>11332.63</td><td>55.27114</td><td>1.652542</td><td>30.2895</td><td>0.37579</td><td>⋯</td><td>45</td><td>276.742</td><td>4021008</td><td>194999.7</td><td>214349.0</td><td>284000.3</td><td>35091</td><td>7.2</td><td>60.1</td><td> 0.02748997</td></tr>\n",
       "\t<tr><td>5</td><td>al</td><td>1986</td><td>1.23</td><td> 9.8</td><td>11661.51</td><td>56.51450</td><td>1.609907</td><td>30.2674</td><td>0.39311</td><td>⋯</td><td>29</td><td>360.716</td><td>4049994</td><td>203999.9</td><td>212000.0</td><td>263000.3</td><td>36259</td><td>7.0</td><td>60.7</td><td> 0.03214295</td></tr>\n",
       "\t<tr><td>6</td><td>al</td><td>1987</td><td>1.18</td><td> 7.8</td><td>11944.00</td><td>57.50988</td><td>1.560000</td><td>30.2453</td><td>0.41123</td><td>⋯</td><td>30</td><td>368.421</td><td>4082999</td><td>204999.8</td><td>208998.5</td><td>258999.8</td><td>37426</td><td>6.2</td><td>61.5</td><td> 0.04897637</td></tr>\n",
       "</tbody>\n",
       "</table>\n"
      ],
      "text/latex": [
       "A tibble: 6 × 35\n",
       "\\begin{tabular}{lllllllllllllllllllll}\n",
       " ...1 & state & year & spirits & unemp & income & emppop & beertax & baptist & mormon & ⋯ & nfatal2124 & afatal & pop & pop1517 & pop1820 & pop2124 & milestot & unempus & emppopus & gsp\\\\\n",
       " <dbl> & <chr> & <dbl> & <dbl> & <dbl> & <dbl> & <dbl> & <dbl> & <dbl> & <dbl> & ⋯ & <dbl> & <dbl> & <dbl> & <dbl> & <dbl> & <dbl> & <dbl> & <dbl> & <dbl> & <dbl>\\\\\n",
       "\\hline\n",
       "\t 1 & al & 1982 & 1.37 & 14.4 & 10544.15 & 50.69204 & 1.539379 & 30.3557 & 0.32829 & ⋯ & 32 & 309.438 & 3942002 & 208999.6 & 221553.4 & 290000.1 & 28516 & 9.7 & 57.8 & -0.02212476\\\\\n",
       "\t 2 & al & 1983 & 1.36 & 13.7 & 10732.80 & 52.14703 & 1.788991 & 30.3336 & 0.34341 & ⋯ & 35 & 341.834 & 3960008 & 202000.1 & 219125.5 & 290000.2 & 31032 & 9.6 & 57.9 &  0.04655825\\\\\n",
       "\t 3 & al & 1984 & 1.32 & 11.1 & 11108.79 & 54.16809 & 1.714286 & 30.3115 & 0.35924 & ⋯ & 34 & 304.872 & 3988992 & 197000.0 & 216724.1 & 288000.2 & 32961 & 7.5 & 59.5 &  0.06279784\\\\\n",
       "\t 4 & al & 1985 & 1.28 &  8.9 & 11332.63 & 55.27114 & 1.652542 & 30.2895 & 0.37579 & ⋯ & 45 & 276.742 & 4021008 & 194999.7 & 214349.0 & 284000.3 & 35091 & 7.2 & 60.1 &  0.02748997\\\\\n",
       "\t 5 & al & 1986 & 1.23 &  9.8 & 11661.51 & 56.51450 & 1.609907 & 30.2674 & 0.39311 & ⋯ & 29 & 360.716 & 4049994 & 203999.9 & 212000.0 & 263000.3 & 36259 & 7.0 & 60.7 &  0.03214295\\\\\n",
       "\t 6 & al & 1987 & 1.18 &  7.8 & 11944.00 & 57.50988 & 1.560000 & 30.2453 & 0.41123 & ⋯ & 30 & 368.421 & 4082999 & 204999.8 & 208998.5 & 258999.8 & 37426 & 6.2 & 61.5 &  0.04897637\\\\\n",
       "\\end{tabular}\n"
      ],
      "text/markdown": [
       "\n",
       "A tibble: 6 × 35\n",
       "\n",
       "| ...1 &lt;dbl&gt; | state &lt;chr&gt; | year &lt;dbl&gt; | spirits &lt;dbl&gt; | unemp &lt;dbl&gt; | income &lt;dbl&gt; | emppop &lt;dbl&gt; | beertax &lt;dbl&gt; | baptist &lt;dbl&gt; | mormon &lt;dbl&gt; | ⋯ ⋯ | nfatal2124 &lt;dbl&gt; | afatal &lt;dbl&gt; | pop &lt;dbl&gt; | pop1517 &lt;dbl&gt; | pop1820 &lt;dbl&gt; | pop2124 &lt;dbl&gt; | milestot &lt;dbl&gt; | unempus &lt;dbl&gt; | emppopus &lt;dbl&gt; | gsp &lt;dbl&gt; |\n",
       "|---|---|---|---|---|---|---|---|---|---|---|---|---|---|---|---|---|---|---|---|---|\n",
       "| 1 | al | 1982 | 1.37 | 14.4 | 10544.15 | 50.69204 | 1.539379 | 30.3557 | 0.32829 | ⋯ | 32 | 309.438 | 3942002 | 208999.6 | 221553.4 | 290000.1 | 28516 | 9.7 | 57.8 | -0.02212476 |\n",
       "| 2 | al | 1983 | 1.36 | 13.7 | 10732.80 | 52.14703 | 1.788991 | 30.3336 | 0.34341 | ⋯ | 35 | 341.834 | 3960008 | 202000.1 | 219125.5 | 290000.2 | 31032 | 9.6 | 57.9 |  0.04655825 |\n",
       "| 3 | al | 1984 | 1.32 | 11.1 | 11108.79 | 54.16809 | 1.714286 | 30.3115 | 0.35924 | ⋯ | 34 | 304.872 | 3988992 | 197000.0 | 216724.1 | 288000.2 | 32961 | 7.5 | 59.5 |  0.06279784 |\n",
       "| 4 | al | 1985 | 1.28 |  8.9 | 11332.63 | 55.27114 | 1.652542 | 30.2895 | 0.37579 | ⋯ | 45 | 276.742 | 4021008 | 194999.7 | 214349.0 | 284000.3 | 35091 | 7.2 | 60.1 |  0.02748997 |\n",
       "| 5 | al | 1986 | 1.23 |  9.8 | 11661.51 | 56.51450 | 1.609907 | 30.2674 | 0.39311 | ⋯ | 29 | 360.716 | 4049994 | 203999.9 | 212000.0 | 263000.3 | 36259 | 7.0 | 60.7 |  0.03214295 |\n",
       "| 6 | al | 1987 | 1.18 |  7.8 | 11944.00 | 57.50988 | 1.560000 | 30.2453 | 0.41123 | ⋯ | 30 | 368.421 | 4082999 | 204999.8 | 208998.5 | 258999.8 | 37426 | 6.2 | 61.5 |  0.04897637 |\n",
       "\n"
      ],
      "text/plain": [
       "  ...1 state year spirits unemp income   emppop   beertax  baptist mormon  ⋯\n",
       "1 1    al    1982 1.37    14.4  10544.15 50.69204 1.539379 30.3557 0.32829 ⋯\n",
       "2 2    al    1983 1.36    13.7  10732.80 52.14703 1.788991 30.3336 0.34341 ⋯\n",
       "3 3    al    1984 1.32    11.1  11108.79 54.16809 1.714286 30.3115 0.35924 ⋯\n",
       "4 4    al    1985 1.28     8.9  11332.63 55.27114 1.652542 30.2895 0.37579 ⋯\n",
       "5 5    al    1986 1.23     9.8  11661.51 56.51450 1.609907 30.2674 0.39311 ⋯\n",
       "6 6    al    1987 1.18     7.8  11944.00 57.50988 1.560000 30.2453 0.41123 ⋯\n",
       "  nfatal2124 afatal  pop     pop1517  pop1820  pop2124  milestot unempus\n",
       "1 32         309.438 3942002 208999.6 221553.4 290000.1 28516    9.7    \n",
       "2 35         341.834 3960008 202000.1 219125.5 290000.2 31032    9.6    \n",
       "3 34         304.872 3988992 197000.0 216724.1 288000.2 32961    7.5    \n",
       "4 45         276.742 4021008 194999.7 214349.0 284000.3 35091    7.2    \n",
       "5 29         360.716 4049994 203999.9 212000.0 263000.3 36259    7.0    \n",
       "6 30         368.421 4082999 204999.8 208998.5 258999.8 37426    6.2    \n",
       "  emppopus gsp        \n",
       "1 57.8     -0.02212476\n",
       "2 57.9      0.04655825\n",
       "3 59.5      0.06279784\n",
       "4 60.1      0.02748997\n",
       "5 60.7      0.03214295\n",
       "6 61.5      0.04897637"
      ]
     },
     "metadata": {},
     "output_type": "display_data"
    }
   ],
   "source": [
    "head(fatalities_df)"
   ]
  },
  {
   "cell_type": "markdown",
   "metadata": {
    "id": "40Y6JLqpvkKG"
   },
   "source": [
    "### Data Cleansing:\n",
    "\n",
    "- Checking for missing values, if found replacing it with \"Unknown\" for Categorical variables and for numerical, based on the type of column using statistical imputations.\n",
    "\n",
    "- Logarithimic Transformation has been done to normalize the data."
   ]
  },
  {
   "cell_type": "code",
   "execution_count": 73,
   "metadata": {
    "colab": {
     "base_uri": "https://localhost:8080/",
     "height": 104
    },
    "id": "OQQX7oYP-gEB",
    "outputId": "2d65e27c-6455-47db-e823-4e9c32bd53ab"
   },
   "outputs": [
    {
     "data": {
      "text/html": [
       "<style>\n",
       ".dl-inline {width: auto; margin:0; padding: 0}\n",
       ".dl-inline>dt, .dl-inline>dd {float: none; width: auto; display: inline-block}\n",
       ".dl-inline>dt::after {content: \":\\0020\"; padding-right: .5ex}\n",
       ".dl-inline>dt:not(:first-of-type) {padding-left: .5ex}\n",
       "</style><dl class=dl-inline><dt>...1</dt><dd>0</dd><dt>state</dt><dd>0</dd><dt>year</dt><dd>0</dd><dt>spirits</dt><dd>0</dd><dt>unemp</dt><dd>0</dd><dt>income</dt><dd>0</dd><dt>emppop</dt><dd>0</dd><dt>beertax</dt><dd>0</dd><dt>baptist</dt><dd>0</dd><dt>mormon</dt><dd>0</dd><dt>drinkage</dt><dd>0</dd><dt>dry</dt><dd>0</dd><dt>youngdrivers</dt><dd>0</dd><dt>miles</dt><dd>0</dd><dt>breath</dt><dd>0</dd><dt>jail</dt><dd>1</dd><dt>service</dt><dd>1</dd><dt>fatal</dt><dd>0</dd><dt>nfatal</dt><dd>0</dd><dt>sfatal</dt><dd>0</dd><dt>fatal1517</dt><dd>0</dd><dt>nfatal1517</dt><dd>0</dd><dt>fatal1820</dt><dd>0</dd><dt>nfatal1820</dt><dd>0</dd><dt>fatal2124</dt><dd>0</dd><dt>nfatal2124</dt><dd>0</dd><dt>afatal</dt><dd>0</dd><dt>pop</dt><dd>0</dd><dt>pop1517</dt><dd>0</dd><dt>pop1820</dt><dd>0</dd><dt>pop2124</dt><dd>0</dd><dt>milestot</dt><dd>0</dd><dt>unempus</dt><dd>0</dd><dt>emppopus</dt><dd>0</dd><dt>gsp</dt><dd>0</dd></dl>\n"
      ],
      "text/latex": [
       "\\begin{description*}\n",
       "\\item[...1] 0\n",
       "\\item[state] 0\n",
       "\\item[year] 0\n",
       "\\item[spirits] 0\n",
       "\\item[unemp] 0\n",
       "\\item[income] 0\n",
       "\\item[emppop] 0\n",
       "\\item[beertax] 0\n",
       "\\item[baptist] 0\n",
       "\\item[mormon] 0\n",
       "\\item[drinkage] 0\n",
       "\\item[dry] 0\n",
       "\\item[youngdrivers] 0\n",
       "\\item[miles] 0\n",
       "\\item[breath] 0\n",
       "\\item[jail] 1\n",
       "\\item[service] 1\n",
       "\\item[fatal] 0\n",
       "\\item[nfatal] 0\n",
       "\\item[sfatal] 0\n",
       "\\item[fatal1517] 0\n",
       "\\item[nfatal1517] 0\n",
       "\\item[fatal1820] 0\n",
       "\\item[nfatal1820] 0\n",
       "\\item[fatal2124] 0\n",
       "\\item[nfatal2124] 0\n",
       "\\item[afatal] 0\n",
       "\\item[pop] 0\n",
       "\\item[pop1517] 0\n",
       "\\item[pop1820] 0\n",
       "\\item[pop2124] 0\n",
       "\\item[milestot] 0\n",
       "\\item[unempus] 0\n",
       "\\item[emppopus] 0\n",
       "\\item[gsp] 0\n",
       "\\end{description*}\n"
      ],
      "text/markdown": [
       "...1\n",
       ":   0state\n",
       ":   0year\n",
       ":   0spirits\n",
       ":   0unemp\n",
       ":   0income\n",
       ":   0emppop\n",
       ":   0beertax\n",
       ":   0baptist\n",
       ":   0mormon\n",
       ":   0drinkage\n",
       ":   0dry\n",
       ":   0youngdrivers\n",
       ":   0miles\n",
       ":   0breath\n",
       ":   0jail\n",
       ":   1service\n",
       ":   1fatal\n",
       ":   0nfatal\n",
       ":   0sfatal\n",
       ":   0fatal1517\n",
       ":   0nfatal1517\n",
       ":   0fatal1820\n",
       ":   0nfatal1820\n",
       ":   0fatal2124\n",
       ":   0nfatal2124\n",
       ":   0afatal\n",
       ":   0pop\n",
       ":   0pop1517\n",
       ":   0pop1820\n",
       ":   0pop2124\n",
       ":   0milestot\n",
       ":   0unempus\n",
       ":   0emppopus\n",
       ":   0gsp\n",
       ":   0\n",
       "\n"
      ],
      "text/plain": [
       "        ...1        state         year      spirits        unemp       income \n",
       "           0            0            0            0            0            0 \n",
       "      emppop      beertax      baptist       mormon     drinkage          dry \n",
       "           0            0            0            0            0            0 \n",
       "youngdrivers        miles       breath         jail      service        fatal \n",
       "           0            0            0            1            1            0 \n",
       "      nfatal       sfatal    fatal1517   nfatal1517    fatal1820   nfatal1820 \n",
       "           0            0            0            0            0            0 \n",
       "   fatal2124   nfatal2124       afatal          pop      pop1517      pop1820 \n",
       "           0            0            0            0            0            0 \n",
       "     pop2124     milestot      unempus     emppopus          gsp \n",
       "           0            0            0            0            0 "
      ]
     },
     "metadata": {},
     "output_type": "display_data"
    }
   ],
   "source": [
    "# Checking for any missing values in each column\n",
    "colSums(is.na(fatalities_df))"
   ]
  },
  {
   "cell_type": "code",
   "execution_count": 74,
   "metadata": {
    "colab": {
     "base_uri": "https://localhost:8080/",
     "height": 34
    },
    "id": "PLTZPhoI-gGQ",
    "outputId": "e2117664-b058-4cb2-f82b-969121203894"
   },
   "outputs": [
    {
     "data": {
      "text/html": [
       "2"
      ],
      "text/latex": [
       "2"
      ],
      "text/markdown": [
       "2"
      ],
      "text/plain": [
       "[1] 2"
      ]
     },
     "metadata": {},
     "output_type": "display_data"
    }
   ],
   "source": [
    "# Calculating number of missing values\n",
    "total_na <- sum(is.na(fatalities_df))\n",
    "total_na"
   ]
  },
  {
   "cell_type": "code",
   "execution_count": 75,
   "metadata": {
    "id": "d8VDftNX-gI9"
   },
   "outputs": [],
   "source": [
    "cleaned_df <- fatalities_df\n",
    "\n",
    "for (col_name in names(fatalities_df)) {\n",
    "  # Check column is numeric\n",
    "  if (is.numeric(fatalities_df[[col_name]])) {\n",
    "\n",
    "    cleaned_df[[col_name]][is.na(cleaned_df[[col_name]])] <- 0\n",
    "  } else {\n",
    "\n",
    "    cleaned_df[[col_name]][is.na(cleaned_df[[col_name]])] <- \"unknown\"\n",
    "  }\n",
    "}\n",
    "\n"
   ]
  },
  {
   "cell_type": "code",
   "execution_count": 76,
   "metadata": {
    "colab": {
     "base_uri": "https://localhost:8080/",
     "height": 34
    },
    "id": "aAdqvLRJ-gL9",
    "outputId": "966fcf09-0704-4543-d15a-7247ba6f205c"
   },
   "outputs": [
    {
     "data": {
      "text/html": [
       "0"
      ],
      "text/latex": [
       "0"
      ],
      "text/markdown": [
       "0"
      ],
      "text/plain": [
       "[1] 0"
      ]
     },
     "metadata": {},
     "output_type": "display_data"
    }
   ],
   "source": [
    "sum(is.na(cleaned_df))"
   ]
  },
  {
   "cell_type": "code",
   "execution_count": 77,
   "metadata": {
    "id": "rr0hJNUfZk3P"
   },
   "outputs": [],
   "source": [
    "# Normalizing all the numerical column\n",
    "for(col_name in names(cleaned_df)) {\n",
    "  #if the column is numeric\n",
    "  if(is.numeric(cleaned_df[[col_name]])) {\n",
    "    # Identifying the minimum value in the column\n",
    "    min_val <- min(cleaned_df[[col_name]], na.rm = TRUE)\n",
    "\n",
    "    constant <- ifelse(min_val <= 0, 1 - min_val, 1)\n",
    "\n",
    "\n",
    "    cleaned_df[[paste0(\"log_\", col_name)]] <- log(cleaned_df[[col_name]] + constant)\n",
    "  }\n",
    "}\n"
   ]
  },
  {
   "cell_type": "code",
   "execution_count": 78,
   "metadata": {
    "id": "5sykS6uDZ7QC"
   },
   "outputs": [],
   "source": [
    "log_cleaned_df <- cleaned_df"
   ]
  },
  {
   "cell_type": "markdown",
   "metadata": {
    "id": "p5AsRrvoWF-k"
   },
   "source": [
    "### Hypothesis and ANOVA TEST\n",
    "\n",
    "* Null Hypothesis (H0): State-by-state variations in the incidence of road fatalities do not exist between income quartiles. The mortality rates are uniform across all income quartiles.\n",
    "* Alternative Hypothesis (H1): There exists a disparity in the prevalence of road fatalities among various income quartiles across states. There is a disparity in the average mortality rate among income quartiles, with at least one quartile having a distinct mean fatality rate compared to the others.\n"
   ]
  },
  {
   "cell_type": "code",
   "execution_count": 79,
   "metadata": {
    "colab": {
     "base_uri": "https://localhost:8080/",
     "height": 306
    },
    "id": "lzYiK0qU_iwO",
    "outputId": "8bda8f85-244a-4294-9a07-5ab6bfb0497a"
   },
   "outputs": [
    {
     "data": {
      "text/html": [
       "<table class=\"dataframe\">\n",
       "<caption>A tibble: 6 × 67</caption>\n",
       "<thead>\n",
       "\t<tr><th scope=col>...1</th><th scope=col>state</th><th scope=col>year</th><th scope=col>spirits</th><th scope=col>unemp</th><th scope=col>income</th><th scope=col>emppop</th><th scope=col>beertax</th><th scope=col>baptist</th><th scope=col>mormon</th><th scope=col>⋯</th><th scope=col>log_afatal</th><th scope=col>log_pop</th><th scope=col>log_pop1517</th><th scope=col>log_pop1820</th><th scope=col>log_pop2124</th><th scope=col>log_milestot</th><th scope=col>log_unempus</th><th scope=col>log_emppopus</th><th scope=col>log_gsp</th><th scope=col>income_quartile</th></tr>\n",
       "\t<tr><th scope=col>&lt;dbl&gt;</th><th scope=col>&lt;chr&gt;</th><th scope=col>&lt;dbl&gt;</th><th scope=col>&lt;dbl&gt;</th><th scope=col>&lt;dbl&gt;</th><th scope=col>&lt;dbl&gt;</th><th scope=col>&lt;dbl&gt;</th><th scope=col>&lt;dbl&gt;</th><th scope=col>&lt;dbl&gt;</th><th scope=col>&lt;dbl&gt;</th><th scope=col>⋯</th><th scope=col>&lt;dbl&gt;</th><th scope=col>&lt;dbl&gt;</th><th scope=col>&lt;dbl&gt;</th><th scope=col>&lt;dbl&gt;</th><th scope=col>&lt;dbl&gt;</th><th scope=col>&lt;dbl&gt;</th><th scope=col>&lt;dbl&gt;</th><th scope=col>&lt;dbl&gt;</th><th scope=col>&lt;dbl&gt;</th><th scope=col>&lt;int&gt;</th></tr>\n",
       "</thead>\n",
       "<tbody>\n",
       "\t<tr><td>1</td><td>al</td><td>1982</td><td>1.37</td><td>14.4</td><td>10544.15</td><td>50.69204</td><td>1.539379</td><td>30.3557</td><td>0.32829</td><td>⋯</td><td>5.737984</td><td>15.18720</td><td>12.25009</td><td>12.30842</td><td>12.57764</td><td>10.25826</td><td>2.370244</td><td>4.074142</td><td>0.09668806</td><td>1</td></tr>\n",
       "\t<tr><td>2</td><td>al</td><td>1983</td><td>1.36</td><td>13.7</td><td>10732.80</td><td>52.14703</td><td>1.788991</td><td>30.3336</td><td>0.34341</td><td>⋯</td><td>5.837246</td><td>15.19176</td><td>12.21603</td><td>12.29740</td><td>12.57764</td><td>10.34281</td><td>2.360854</td><td>4.075841</td><td>0.15717444</td><td>1</td></tr>\n",
       "\t<tr><td>3</td><td>al</td><td>1984</td><td>1.32</td><td>11.1</td><td>11108.79</td><td>54.16809</td><td>1.714286</td><td>30.3115</td><td>0.35924</td><td>⋯</td><td>5.723167</td><td>15.19905</td><td>12.19096</td><td>12.28638</td><td>12.57072</td><td>10.40311</td><td>2.140066</td><td>4.102643</td><td>0.17095664</td><td>1</td></tr>\n",
       "\t<tr><td>4</td><td>al</td><td>1985</td><td>1.28</td><td> 8.9</td><td>11332.63</td><td>55.27114</td><td>1.652542</td><td>30.2895</td><td>0.37579</td><td>⋯</td><td>5.626693</td><td>15.20704</td><td>12.18076</td><td>12.27537</td><td>12.55673</td><td>10.46573</td><td>2.104134</td><td>4.112512</td><td>0.14074532</td><td>1</td></tr>\n",
       "\t<tr><td>5</td><td>al</td><td>1986</td><td>1.23</td><td> 9.8</td><td>11661.51</td><td>56.51450</td><td>1.609907</td><td>30.2674</td><td>0.39311</td><td>⋯</td><td>5.890859</td><td>15.21423</td><td>12.22588</td><td>12.26435</td><td>12.47991</td><td>10.49847</td><td>2.079442</td><td>4.122284</td><td>0.14477926</td><td>1</td></tr>\n",
       "\t<tr><td>6</td><td>al</td><td>1987</td><td>1.18</td><td> 7.8</td><td>11944.00</td><td>57.50988</td><td>1.560000</td><td>30.2453</td><td>0.41123</td><td>⋯</td><td>5.911937</td><td>15.22234</td><td>12.23077</td><td>12.25009</td><td>12.46459</td><td>10.53015</td><td>1.974081</td><td>4.135167</td><td>0.15923872</td><td>1</td></tr>\n",
       "</tbody>\n",
       "</table>\n"
      ],
      "text/latex": [
       "A tibble: 6 × 67\n",
       "\\begin{tabular}{lllllllllllllllllllll}\n",
       " ...1 & state & year & spirits & unemp & income & emppop & beertax & baptist & mormon & ⋯ & log\\_afatal & log\\_pop & log\\_pop1517 & log\\_pop1820 & log\\_pop2124 & log\\_milestot & log\\_unempus & log\\_emppopus & log\\_gsp & income\\_quartile\\\\\n",
       " <dbl> & <chr> & <dbl> & <dbl> & <dbl> & <dbl> & <dbl> & <dbl> & <dbl> & <dbl> & ⋯ & <dbl> & <dbl> & <dbl> & <dbl> & <dbl> & <dbl> & <dbl> & <dbl> & <dbl> & <int>\\\\\n",
       "\\hline\n",
       "\t 1 & al & 1982 & 1.37 & 14.4 & 10544.15 & 50.69204 & 1.539379 & 30.3557 & 0.32829 & ⋯ & 5.737984 & 15.18720 & 12.25009 & 12.30842 & 12.57764 & 10.25826 & 2.370244 & 4.074142 & 0.09668806 & 1\\\\\n",
       "\t 2 & al & 1983 & 1.36 & 13.7 & 10732.80 & 52.14703 & 1.788991 & 30.3336 & 0.34341 & ⋯ & 5.837246 & 15.19176 & 12.21603 & 12.29740 & 12.57764 & 10.34281 & 2.360854 & 4.075841 & 0.15717444 & 1\\\\\n",
       "\t 3 & al & 1984 & 1.32 & 11.1 & 11108.79 & 54.16809 & 1.714286 & 30.3115 & 0.35924 & ⋯ & 5.723167 & 15.19905 & 12.19096 & 12.28638 & 12.57072 & 10.40311 & 2.140066 & 4.102643 & 0.17095664 & 1\\\\\n",
       "\t 4 & al & 1985 & 1.28 &  8.9 & 11332.63 & 55.27114 & 1.652542 & 30.2895 & 0.37579 & ⋯ & 5.626693 & 15.20704 & 12.18076 & 12.27537 & 12.55673 & 10.46573 & 2.104134 & 4.112512 & 0.14074532 & 1\\\\\n",
       "\t 5 & al & 1986 & 1.23 &  9.8 & 11661.51 & 56.51450 & 1.609907 & 30.2674 & 0.39311 & ⋯ & 5.890859 & 15.21423 & 12.22588 & 12.26435 & 12.47991 & 10.49847 & 2.079442 & 4.122284 & 0.14477926 & 1\\\\\n",
       "\t 6 & al & 1987 & 1.18 &  7.8 & 11944.00 & 57.50988 & 1.560000 & 30.2453 & 0.41123 & ⋯ & 5.911937 & 15.22234 & 12.23077 & 12.25009 & 12.46459 & 10.53015 & 1.974081 & 4.135167 & 0.15923872 & 1\\\\\n",
       "\\end{tabular}\n"
      ],
      "text/markdown": [
       "\n",
       "A tibble: 6 × 67\n",
       "\n",
       "| ...1 &lt;dbl&gt; | state &lt;chr&gt; | year &lt;dbl&gt; | spirits &lt;dbl&gt; | unemp &lt;dbl&gt; | income &lt;dbl&gt; | emppop &lt;dbl&gt; | beertax &lt;dbl&gt; | baptist &lt;dbl&gt; | mormon &lt;dbl&gt; | ⋯ ⋯ | log_afatal &lt;dbl&gt; | log_pop &lt;dbl&gt; | log_pop1517 &lt;dbl&gt; | log_pop1820 &lt;dbl&gt; | log_pop2124 &lt;dbl&gt; | log_milestot &lt;dbl&gt; | log_unempus &lt;dbl&gt; | log_emppopus &lt;dbl&gt; | log_gsp &lt;dbl&gt; | income_quartile &lt;int&gt; |\n",
       "|---|---|---|---|---|---|---|---|---|---|---|---|---|---|---|---|---|---|---|---|---|\n",
       "| 1 | al | 1982 | 1.37 | 14.4 | 10544.15 | 50.69204 | 1.539379 | 30.3557 | 0.32829 | ⋯ | 5.737984 | 15.18720 | 12.25009 | 12.30842 | 12.57764 | 10.25826 | 2.370244 | 4.074142 | 0.09668806 | 1 |\n",
       "| 2 | al | 1983 | 1.36 | 13.7 | 10732.80 | 52.14703 | 1.788991 | 30.3336 | 0.34341 | ⋯ | 5.837246 | 15.19176 | 12.21603 | 12.29740 | 12.57764 | 10.34281 | 2.360854 | 4.075841 | 0.15717444 | 1 |\n",
       "| 3 | al | 1984 | 1.32 | 11.1 | 11108.79 | 54.16809 | 1.714286 | 30.3115 | 0.35924 | ⋯ | 5.723167 | 15.19905 | 12.19096 | 12.28638 | 12.57072 | 10.40311 | 2.140066 | 4.102643 | 0.17095664 | 1 |\n",
       "| 4 | al | 1985 | 1.28 |  8.9 | 11332.63 | 55.27114 | 1.652542 | 30.2895 | 0.37579 | ⋯ | 5.626693 | 15.20704 | 12.18076 | 12.27537 | 12.55673 | 10.46573 | 2.104134 | 4.112512 | 0.14074532 | 1 |\n",
       "| 5 | al | 1986 | 1.23 |  9.8 | 11661.51 | 56.51450 | 1.609907 | 30.2674 | 0.39311 | ⋯ | 5.890859 | 15.21423 | 12.22588 | 12.26435 | 12.47991 | 10.49847 | 2.079442 | 4.122284 | 0.14477926 | 1 |\n",
       "| 6 | al | 1987 | 1.18 |  7.8 | 11944.00 | 57.50988 | 1.560000 | 30.2453 | 0.41123 | ⋯ | 5.911937 | 15.22234 | 12.23077 | 12.25009 | 12.46459 | 10.53015 | 1.974081 | 4.135167 | 0.15923872 | 1 |\n",
       "\n"
      ],
      "text/plain": [
       "  ...1 state year spirits unemp income   emppop   beertax  baptist mormon  ⋯\n",
       "1 1    al    1982 1.37    14.4  10544.15 50.69204 1.539379 30.3557 0.32829 ⋯\n",
       "2 2    al    1983 1.36    13.7  10732.80 52.14703 1.788991 30.3336 0.34341 ⋯\n",
       "3 3    al    1984 1.32    11.1  11108.79 54.16809 1.714286 30.3115 0.35924 ⋯\n",
       "4 4    al    1985 1.28     8.9  11332.63 55.27114 1.652542 30.2895 0.37579 ⋯\n",
       "5 5    al    1986 1.23     9.8  11661.51 56.51450 1.609907 30.2674 0.39311 ⋯\n",
       "6 6    al    1987 1.18     7.8  11944.00 57.50988 1.560000 30.2453 0.41123 ⋯\n",
       "  log_afatal log_pop  log_pop1517 log_pop1820 log_pop2124 log_milestot\n",
       "1 5.737984   15.18720 12.25009    12.30842    12.57764    10.25826    \n",
       "2 5.837246   15.19176 12.21603    12.29740    12.57764    10.34281    \n",
       "3 5.723167   15.19905 12.19096    12.28638    12.57072    10.40311    \n",
       "4 5.626693   15.20704 12.18076    12.27537    12.55673    10.46573    \n",
       "5 5.890859   15.21423 12.22588    12.26435    12.47991    10.49847    \n",
       "6 5.911937   15.22234 12.23077    12.25009    12.46459    10.53015    \n",
       "  log_unempus log_emppopus log_gsp    income_quartile\n",
       "1 2.370244    4.074142     0.09668806 1              \n",
       "2 2.360854    4.075841     0.15717444 1              \n",
       "3 2.140066    4.102643     0.17095664 1              \n",
       "4 2.104134    4.112512     0.14074532 1              \n",
       "5 2.079442    4.122284     0.14477926 1              \n",
       "6 1.974081    4.135167     0.15923872 1              "
      ]
     },
     "metadata": {},
     "output_type": "display_data"
    }
   ],
   "source": [
    "# Creating income quartiles\n",
    "log_cleaned_df <- log_cleaned_df %>%\n",
    "  mutate(income_quartile = ntile(log_income, 4))  # Assuring 'income' is the income column name\n",
    "\n",
    "head(log_cleaned_df)"
   ]
  },
  {
   "cell_type": "code",
   "execution_count": 80,
   "metadata": {
    "colab": {
     "base_uri": "https://localhost:8080/",
     "height": 437
    },
    "id": "ruO58dvc_iyx",
    "outputId": "db46ac54-5ab9-4c8c-aef3-77f53605047a"
   },
   "outputs": [
    {
     "data": {
      "image/png": "[encoded data removed]",
      "text/plain": [
       "plot without title"
      ]
     },
     "metadata": {
      "image/png": {
       "height": 420,
       "width": 420
      }
     },
     "output_type": "display_data"
    }
   ],
   "source": [
    "# Plotting fatality rates across income quartiles\n",
    "ggplot(log_cleaned_df, aes(x = as.factor(income_quartile), y = fatal)) +  # Assuming 'fatal' is the fatality rate column\n",
    "  geom_boxplot() +\n",
    "  labs(title = \"Traffic Fatality Rates by Income Quartiles\", x = \"Income Quartile\", y = \"Log-transformed Fatality Rate\") +\n",
    "  theme_minimal()\n"
   ]
  },
  {
   "cell_type": "code",
   "execution_count": 81,
   "metadata": {
    "id": "Xbz1egzb_i1a"
   },
   "outputs": [],
   "source": [
    "# Performing ANOVA\n",
    "anova_result <- aov(fatal ~ as.factor(income_quartile), data = log_cleaned_df)\n",
    "summary_anova <- summary(anova_result)\n"
   ]
  },
  {
   "cell_type": "code",
   "execution_count": 82,
   "metadata": {
    "colab": {
     "base_uri": "https://localhost:8080/",
     "height": 104
    },
    "id": "GeHu2UL5ph14",
    "outputId": "34ff7671-4448-4960-d75a-503af63939ce"
   },
   "outputs": [
    {
     "data": {
      "text/plain": [
       "                            Df    Sum Sq Mean Sq F value   Pr(>F)    \n",
       "as.factor(income_quartile)   3  23539217 7846406   9.694 3.78e-06 ***\n",
       "Residuals                  332 268732270  809435                     \n",
       "---\n",
       "Signif. codes:  0 '***' 0.001 '**' 0.01 '*' 0.05 '.' 0.1 ' ' 1"
      ]
     },
     "metadata": {},
     "output_type": "display_data"
    }
   ],
   "source": [
    "summary(anova_result)"
   ]
  },
  {
   "cell_type": "code",
   "execution_count": 83,
   "metadata": {
    "colab": {
     "base_uri": "https://localhost:8080/"
    },
    "id": "GJiJ5lxDpEof",
    "outputId": "422a9553-7f86-4d27-e2e6-8a9b198dc6be"
   },
   "outputs": [
    {
     "name": "stdout",
     "output_type": "stream",
     "text": [
      "Reject the Null Hypothesis: There is a significant difference in fatality rates among different income quartiles.\n"
     ]
    }
   ],
   "source": [
    "p_value <- summary_anova[[1]][[\"Pr(>F)\"]][1]\n",
    "if (p_value < 0.05) {\n",
    "  cat(\"Reject the Null Hypothesis: There is a significant difference in fatality rates among different income quartiles.\\n\")\n",
    "} else {\n",
    "  cat(\"Fail to Reject the Null Hypothesis: There is no significant difference in fatality rates among different income quartiles.\\n\")\n",
    "}"
   ]
  },
  {
   "cell_type": "markdown",
   "metadata": {
    "id": "eWbvdcE5rnzD"
   },
   "source": [
    "#### Interpretation from the summary\n",
    "\n",
    "An analysis of variance (ANOVA) was performed to assess if there are statistically significant variations in traffic fatality rates among various income quartiles. The outcomes are as follows:\n",
    "\n",
    "- Degrees of Freedom (Df) for Income Quartile Groups: 3\n",
    "- Degrees of Freedom for Residuals: 332\n",
    "- Sum of Squares Between Groups: 23,539,217\n",
    "- Mean Square Between Groups: 7,846,406\n",
    "- F-value: 9.694\n",
    "- P-value: 3.78e-06\n",
    "\n",
    "Explanation: The F-statistic of 9.694 suggests that the variation between groups is much greater than the variation within groups. The exceedingly small p-value (3.78e-06), far below the threshold of 0.05, necessitates the rejection of the null hypothesis."
   ]
  },
  {
   "cell_type": "code",
   "execution_count": 84,
   "metadata": {
    "colab": {
     "base_uri": "https://localhost:8080/"
    },
    "id": "RHQBVmW-_i4D",
    "outputId": "98a4a695-a473-4814-864a-203bfcb0a40b"
   },
   "outputs": [
    {
     "name": "stdout",
     "output_type": "stream",
     "text": [
      "  Tukey multiple comparisons of means\n",
      "    95% family-wise confidence level\n",
      "\n",
      "Fit: aov(formula = fatal ~ as.factor(income_quartile), data = log_cleaned_df)\n",
      "\n",
      "$`as.factor(income_quartile)`\n",
      "        diff       lwr      upr     p adj\n",
      "2-1 118.6786 -239.7788 477.1360 0.8279793\n",
      "3-1 505.4048  146.9474 863.8621 0.0017853\n",
      "4-1 640.9048  282.4474 999.3621 0.0000330\n",
      "3-2 386.7262   28.2688 745.1836 0.0287383\n",
      "4-2 522.2262  163.7688 880.6836 0.0011383\n",
      "4-3 135.5000 -222.9574 493.9574 0.7631975\n",
      "\n"
     ]
    }
   ],
   "source": [
    "# Post-hoc test if ANOVA is significant\n",
    "if (summary_anova[[1]][[\"Pr(>F)\"]][1] < 0.05) {\n",
    "  posthoc_results <- TukeyHSD(anova_result)\n",
    "  print(posthoc_results)\n",
    "}\n"
   ]
  },
  {
   "cell_type": "markdown",
   "metadata": {
    "id": "xS8qEeq2sTmI"
   },
   "source": [
    "#### Interpretation from Post-hoc Analysis:\n",
    "\n",
    "The Tukey's Honest Significant Difference (HSD) test was performed to identify the income quartile groupings:\n",
    "\n",
    "Comparisons:\n",
    "- Quartile 2 vs. Quartile 1: Difference = 118.68, 95% CI = [-239.78, 477.14], p = 0.82798\n",
    "- Quartile 3 vs. Quartile 1: Difference = 505.40, 95% CI = [146.95, 863.86], p = 0.00179\n",
    "- Quartile 4 vs. Quartile 1: Difference = 640.90, 95% CI = [282.45, 999.36], p = 0.00003\n",
    "- Quartile 3 vs. Quartile 2: Difference = 386.73, 95% CI = [28.27, 745.18], p = 0.02874\n",
    "- Quartile 4 vs. Quartile 2: Difference = 522.23, 95% CI = [163.77, 880.68], p = 0.00114\n",
    "- Quartile 4 vs. Quartile 3: Difference = 135.50, 95% CI = [-222.96, 493.96], p = 0.76320\n",
    "\n",
    "\n",
    "In conclusion, the results indicate that those in the higher income quartiles, notably Quartiles 3 and 4, had a greater likelihood of experiencing higher rates of traffic fatalities as compared to those in the lowest income quartile. The first hypothesis, which proposed a negative correlation between increasing wealth and mortality rates, has been contradicted."
   ]
  },
  {
   "cell_type": "markdown",
   "metadata": {
    "id": "nK00ObQqw0HZ"
   },
   "source": [
    "### Hypothesis Testing and T test:\n",
    "\n",
    "* Null Hypothesis (H0): There is no correlation between beer tax rates and the mortality rate of young drivers (ages 18 to 20). There is no discernible disparity in the incidence of young driver fatalities between states with high and low alcohol levies.\n",
    "* Alternative Hypothesis (H1): It states that there is a negative correlation between higher beer taxes and road deaths among young drivers aged 18-20."
   ]
  },
  {
   "cell_type": "code",
   "execution_count": 85,
   "metadata": {
    "colab": {
     "base_uri": "https://localhost:8080/",
     "height": 306
    },
    "id": "h3YoOWDhxJLp",
    "outputId": "b88670b2-1b38-45bc-e63e-f415ec226716"
   },
   "outputs": [
    {
     "data": {
      "text/html": [
       "<table class=\"dataframe\">\n",
       "<caption>A tibble: 6 × 68</caption>\n",
       "<thead>\n",
       "\t<tr><th scope=col>...1</th><th scope=col>state</th><th scope=col>year</th><th scope=col>spirits</th><th scope=col>unemp</th><th scope=col>income</th><th scope=col>emppop</th><th scope=col>beertax</th><th scope=col>baptist</th><th scope=col>mormon</th><th scope=col>⋯</th><th scope=col>log_pop</th><th scope=col>log_pop1517</th><th scope=col>log_pop1820</th><th scope=col>log_pop2124</th><th scope=col>log_milestot</th><th scope=col>log_unempus</th><th scope=col>log_emppopus</th><th scope=col>log_gsp</th><th scope=col>income_quartile</th><th scope=col>tax_group</th></tr>\n",
       "\t<tr><th scope=col>&lt;dbl&gt;</th><th scope=col>&lt;chr&gt;</th><th scope=col>&lt;dbl&gt;</th><th scope=col>&lt;dbl&gt;</th><th scope=col>&lt;dbl&gt;</th><th scope=col>&lt;dbl&gt;</th><th scope=col>&lt;dbl&gt;</th><th scope=col>&lt;dbl&gt;</th><th scope=col>&lt;dbl&gt;</th><th scope=col>&lt;dbl&gt;</th><th scope=col>⋯</th><th scope=col>&lt;dbl&gt;</th><th scope=col>&lt;dbl&gt;</th><th scope=col>&lt;dbl&gt;</th><th scope=col>&lt;dbl&gt;</th><th scope=col>&lt;dbl&gt;</th><th scope=col>&lt;dbl&gt;</th><th scope=col>&lt;dbl&gt;</th><th scope=col>&lt;dbl&gt;</th><th scope=col>&lt;int&gt;</th><th scope=col>&lt;chr&gt;</th></tr>\n",
       "</thead>\n",
       "<tbody>\n",
       "\t<tr><td>1</td><td>al</td><td>1982</td><td>1.37</td><td>14.4</td><td>10544.15</td><td>50.69204</td><td>1.539379</td><td>30.3557</td><td>0.32829</td><td>⋯</td><td>15.18720</td><td>12.25009</td><td>12.30842</td><td>12.57764</td><td>10.25826</td><td>2.370244</td><td>4.074142</td><td>0.09668806</td><td>1</td><td>High</td></tr>\n",
       "\t<tr><td>2</td><td>al</td><td>1983</td><td>1.36</td><td>13.7</td><td>10732.80</td><td>52.14703</td><td>1.788991</td><td>30.3336</td><td>0.34341</td><td>⋯</td><td>15.19176</td><td>12.21603</td><td>12.29740</td><td>12.57764</td><td>10.34281</td><td>2.360854</td><td>4.075841</td><td>0.15717444</td><td>1</td><td>High</td></tr>\n",
       "\t<tr><td>3</td><td>al</td><td>1984</td><td>1.32</td><td>11.1</td><td>11108.79</td><td>54.16809</td><td>1.714286</td><td>30.3115</td><td>0.35924</td><td>⋯</td><td>15.19905</td><td>12.19096</td><td>12.28638</td><td>12.57072</td><td>10.40311</td><td>2.140066</td><td>4.102643</td><td>0.17095664</td><td>1</td><td>High</td></tr>\n",
       "\t<tr><td>4</td><td>al</td><td>1985</td><td>1.28</td><td> 8.9</td><td>11332.63</td><td>55.27114</td><td>1.652542</td><td>30.2895</td><td>0.37579</td><td>⋯</td><td>15.20704</td><td>12.18076</td><td>12.27537</td><td>12.55673</td><td>10.46573</td><td>2.104134</td><td>4.112512</td><td>0.14074532</td><td>1</td><td>High</td></tr>\n",
       "\t<tr><td>5</td><td>al</td><td>1986</td><td>1.23</td><td> 9.8</td><td>11661.51</td><td>56.51450</td><td>1.609907</td><td>30.2674</td><td>0.39311</td><td>⋯</td><td>15.21423</td><td>12.22588</td><td>12.26435</td><td>12.47991</td><td>10.49847</td><td>2.079442</td><td>4.122284</td><td>0.14477926</td><td>1</td><td>High</td></tr>\n",
       "\t<tr><td>6</td><td>al</td><td>1987</td><td>1.18</td><td> 7.8</td><td>11944.00</td><td>57.50988</td><td>1.560000</td><td>30.2453</td><td>0.41123</td><td>⋯</td><td>15.22234</td><td>12.23077</td><td>12.25009</td><td>12.46459</td><td>10.53015</td><td>1.974081</td><td>4.135167</td><td>0.15923872</td><td>1</td><td>High</td></tr>\n",
       "</tbody>\n",
       "</table>\n"
      ],
      "text/latex": [
       "A tibble: 6 × 68\n",
       "\\begin{tabular}{lllllllllllllllllllll}\n",
       " ...1 & state & year & spirits & unemp & income & emppop & beertax & baptist & mormon & ⋯ & log\\_pop & log\\_pop1517 & log\\_pop1820 & log\\_pop2124 & log\\_milestot & log\\_unempus & log\\_emppopus & log\\_gsp & income\\_quartile & tax\\_group\\\\\n",
       " <dbl> & <chr> & <dbl> & <dbl> & <dbl> & <dbl> & <dbl> & <dbl> & <dbl> & <dbl> & ⋯ & <dbl> & <dbl> & <dbl> & <dbl> & <dbl> & <dbl> & <dbl> & <dbl> & <int> & <chr>\\\\\n",
       "\\hline\n",
       "\t 1 & al & 1982 & 1.37 & 14.4 & 10544.15 & 50.69204 & 1.539379 & 30.3557 & 0.32829 & ⋯ & 15.18720 & 12.25009 & 12.30842 & 12.57764 & 10.25826 & 2.370244 & 4.074142 & 0.09668806 & 1 & High\\\\\n",
       "\t 2 & al & 1983 & 1.36 & 13.7 & 10732.80 & 52.14703 & 1.788991 & 30.3336 & 0.34341 & ⋯ & 15.19176 & 12.21603 & 12.29740 & 12.57764 & 10.34281 & 2.360854 & 4.075841 & 0.15717444 & 1 & High\\\\\n",
       "\t 3 & al & 1984 & 1.32 & 11.1 & 11108.79 & 54.16809 & 1.714286 & 30.3115 & 0.35924 & ⋯ & 15.19905 & 12.19096 & 12.28638 & 12.57072 & 10.40311 & 2.140066 & 4.102643 & 0.17095664 & 1 & High\\\\\n",
       "\t 4 & al & 1985 & 1.28 &  8.9 & 11332.63 & 55.27114 & 1.652542 & 30.2895 & 0.37579 & ⋯ & 15.20704 & 12.18076 & 12.27537 & 12.55673 & 10.46573 & 2.104134 & 4.112512 & 0.14074532 & 1 & High\\\\\n",
       "\t 5 & al & 1986 & 1.23 &  9.8 & 11661.51 & 56.51450 & 1.609907 & 30.2674 & 0.39311 & ⋯ & 15.21423 & 12.22588 & 12.26435 & 12.47991 & 10.49847 & 2.079442 & 4.122284 & 0.14477926 & 1 & High\\\\\n",
       "\t 6 & al & 1987 & 1.18 &  7.8 & 11944.00 & 57.50988 & 1.560000 & 30.2453 & 0.41123 & ⋯ & 15.22234 & 12.23077 & 12.25009 & 12.46459 & 10.53015 & 1.974081 & 4.135167 & 0.15923872 & 1 & High\\\\\n",
       "\\end{tabular}\n"
      ],
      "text/markdown": [
       "\n",
       "A tibble: 6 × 68\n",
       "\n",
       "| ...1 &lt;dbl&gt; | state &lt;chr&gt; | year &lt;dbl&gt; | spirits &lt;dbl&gt; | unemp &lt;dbl&gt; | income &lt;dbl&gt; | emppop &lt;dbl&gt; | beertax &lt;dbl&gt; | baptist &lt;dbl&gt; | mormon &lt;dbl&gt; | ⋯ ⋯ | log_pop &lt;dbl&gt; | log_pop1517 &lt;dbl&gt; | log_pop1820 &lt;dbl&gt; | log_pop2124 &lt;dbl&gt; | log_milestot &lt;dbl&gt; | log_unempus &lt;dbl&gt; | log_emppopus &lt;dbl&gt; | log_gsp &lt;dbl&gt; | income_quartile &lt;int&gt; | tax_group &lt;chr&gt; |\n",
       "|---|---|---|---|---|---|---|---|---|---|---|---|---|---|---|---|---|---|---|---|---|\n",
       "| 1 | al | 1982 | 1.37 | 14.4 | 10544.15 | 50.69204 | 1.539379 | 30.3557 | 0.32829 | ⋯ | 15.18720 | 12.25009 | 12.30842 | 12.57764 | 10.25826 | 2.370244 | 4.074142 | 0.09668806 | 1 | High |\n",
       "| 2 | al | 1983 | 1.36 | 13.7 | 10732.80 | 52.14703 | 1.788991 | 30.3336 | 0.34341 | ⋯ | 15.19176 | 12.21603 | 12.29740 | 12.57764 | 10.34281 | 2.360854 | 4.075841 | 0.15717444 | 1 | High |\n",
       "| 3 | al | 1984 | 1.32 | 11.1 | 11108.79 | 54.16809 | 1.714286 | 30.3115 | 0.35924 | ⋯ | 15.19905 | 12.19096 | 12.28638 | 12.57072 | 10.40311 | 2.140066 | 4.102643 | 0.17095664 | 1 | High |\n",
       "| 4 | al | 1985 | 1.28 |  8.9 | 11332.63 | 55.27114 | 1.652542 | 30.2895 | 0.37579 | ⋯ | 15.20704 | 12.18076 | 12.27537 | 12.55673 | 10.46573 | 2.104134 | 4.112512 | 0.14074532 | 1 | High |\n",
       "| 5 | al | 1986 | 1.23 |  9.8 | 11661.51 | 56.51450 | 1.609907 | 30.2674 | 0.39311 | ⋯ | 15.21423 | 12.22588 | 12.26435 | 12.47991 | 10.49847 | 2.079442 | 4.122284 | 0.14477926 | 1 | High |\n",
       "| 6 | al | 1987 | 1.18 |  7.8 | 11944.00 | 57.50988 | 1.560000 | 30.2453 | 0.41123 | ⋯ | 15.22234 | 12.23077 | 12.25009 | 12.46459 | 10.53015 | 1.974081 | 4.135167 | 0.15923872 | 1 | High |\n",
       "\n"
      ],
      "text/plain": [
       "  ...1 state year spirits unemp income   emppop   beertax  baptist mormon  ⋯\n",
       "1 1    al    1982 1.37    14.4  10544.15 50.69204 1.539379 30.3557 0.32829 ⋯\n",
       "2 2    al    1983 1.36    13.7  10732.80 52.14703 1.788991 30.3336 0.34341 ⋯\n",
       "3 3    al    1984 1.32    11.1  11108.79 54.16809 1.714286 30.3115 0.35924 ⋯\n",
       "4 4    al    1985 1.28     8.9  11332.63 55.27114 1.652542 30.2895 0.37579 ⋯\n",
       "5 5    al    1986 1.23     9.8  11661.51 56.51450 1.609907 30.2674 0.39311 ⋯\n",
       "6 6    al    1987 1.18     7.8  11944.00 57.50988 1.560000 30.2453 0.41123 ⋯\n",
       "  log_pop  log_pop1517 log_pop1820 log_pop2124 log_milestot log_unempus\n",
       "1 15.18720 12.25009    12.30842    12.57764    10.25826     2.370244   \n",
       "2 15.19176 12.21603    12.29740    12.57764    10.34281     2.360854   \n",
       "3 15.19905 12.19096    12.28638    12.57072    10.40311     2.140066   \n",
       "4 15.20704 12.18076    12.27537    12.55673    10.46573     2.104134   \n",
       "5 15.21423 12.22588    12.26435    12.47991    10.49847     2.079442   \n",
       "6 15.22234 12.23077    12.25009    12.46459    10.53015     1.974081   \n",
       "  log_emppopus log_gsp    income_quartile tax_group\n",
       "1 4.074142     0.09668806 1               High     \n",
       "2 4.075841     0.15717444 1               High     \n",
       "3 4.102643     0.17095664 1               High     \n",
       "4 4.112512     0.14074532 1               High     \n",
       "5 4.122284     0.14477926 1               High     \n",
       "6 4.135167     0.15923872 1               High     "
      ]
     },
     "metadata": {},
     "output_type": "display_data"
    }
   ],
   "source": [
    "median_beertax <- median(log_cleaned_df$log_beertax, na.rm = TRUE)\n",
    "log_cleaned_df <- log_cleaned_df %>%\n",
    "  mutate(tax_group = ifelse(log_beertax > median_beertax, \"High\", \"Low\"))\n",
    "\n",
    "\n",
    "head(log_cleaned_df)"
   ]
  },
  {
   "cell_type": "code",
   "execution_count": 86,
   "metadata": {
    "colab": {
     "base_uri": "https://localhost:8080/",
     "height": 437
    },
    "id": "-STnlbpMxPUx",
    "outputId": "1747ab44-37af-4b18-bfbc-b6f964dd3041"
   },
   "outputs": [
    {
     "data": {
      "image/png": "[encoded data removed]",
      "text/plain": [
       "plot without title"
      ]
     },
     "metadata": {
      "image/png": {
       "height": 420,
       "width": 420
      }
     },
     "output_type": "display_data"
    }
   ],
   "source": [
    "ggplot(log_cleaned_df, aes(x = tax_group, y = fatal1820)) +  # fatal1820 assumes the fatality rate for ages 18-20\n",
    "  geom_boxplot() +\n",
    "  labs(title = \"Fatality Rates among Young Drivers by Beer Tax Group\", x = \"Beer Tax Group\", y = \"Log-transformed Fatality Rate\") +\n",
    "  theme_minimal()"
   ]
  },
  {
   "cell_type": "code",
   "execution_count": 87,
   "metadata": {
    "colab": {
     "base_uri": "https://localhost:8080/"
    },
    "id": "jpKEl4adydf8",
    "outputId": "46266e14-9c77-4863-bbcf-3aeb38fa7183"
   },
   "outputs": [
    {
     "name": "stdout",
     "output_type": "stream",
     "text": [
      "\n",
      "\tWelch Two Sample t-test\n",
      "\n",
      "data:  fatal1820 by tax_group\n",
      "t = -0.79204, df = 324.51, p-value = 0.4289\n",
      "alternative hypothesis: true difference in means between group High and group Low is not equal to 0\n",
      "95 percent confidence interval:\n",
      " -31.39597  13.37216\n",
      "sample estimates:\n",
      "mean in group High  mean in group Low \n",
      "          102.1548           111.1667 \n",
      "\n"
     ]
    }
   ],
   "source": [
    "# T-test to compare fatality rates between high and low beer tax groups\n",
    "t_test_results <- t.test(fatal1820 ~ tax_group, data = log_cleaned_df)\n",
    "\n",
    "# Print the results\n",
    "print(t_test_results)"
   ]
  },
  {
   "cell_type": "markdown",
   "metadata": {
    "id": "KopIwK1RhyR1"
   },
   "source": [
    "#### Interpretation:\n",
    "\n",
    "The mortality rates for 18 to 20-year-olds in states with high and low beer tax rates were compared using the Welch Two Sample t-test. Here is a guide on how to understand the t-test output:\n",
    "\n",
    "* t-Statistic: The computed t-value is -0.79204, indicating the direction of the mean difference (mean of the high tax group minus mean of the low tax group).\n",
    "* Degrees of Freedom: Approximately 324.51. This indicates that the sample sizes in both groups are large, yet the Welch correction is used due to the possibility of uneven variances.\n",
    "* P-Value: The p-value of 0.4289 above the standard alpha level of 0.05, suggesting insufficient statistical evidence to reject the null hypothesis.\n",
    "* Confidence Interval: The 95% confidence interval for the difference in averages spans from -31.39597 to 13.37216. Given that this interval encompasses zero, it strongly indicates that there is no substantial disparity in mortality rates between the two tax categories.\n",
    "* Mean Estimates: The mean fatality rate for the group with a high beer tax is estimated to be 102.1548, whereas for the group with a low beer tax, it is estimated to be 111.1667.\n"
   ]
  },
  {
   "cell_type": "code",
   "execution_count": 88,
   "metadata": {
    "colab": {
     "base_uri": "https://localhost:8080/"
    },
    "id": "gb-kDS6Bym1S",
    "outputId": "a8310464-b105-4b1f-e138-cfeca0921c0e"
   },
   "outputs": [
    {
     "name": "stdout",
     "output_type": "stream",
     "text": [
      "Fail to Reject the Null Hypothesis: There is no significant difference in fatality rates between high and low beer tax groups. \n"
     ]
    }
   ],
   "source": [
    "# Interpreting the results\n",
    "if (t_test_results$p.value < 0.05) {\n",
    "  cat(\"Reject the Null Hypothesis: There is a significant difference in fatality rates between high and low beer tax groups. \\n\")\n",
    "} else {\n",
    "  cat(\"Fail to Reject the Null Hypothesis: There is no significant difference in fatality rates between high and low beer tax groups. \\n\")\n",
    "}"
   ]
  },
  {
   "cell_type": "markdown",
   "metadata": {
    "id": "ZzVKvU3Wihen"
   },
   "source": [
    "Given the p-value and the confidence interval, we do not have sufficient evidence to reject the null hypothesis. Consequently, the available data does not offer enough proof to establish a noteworthy disparity in mortality rates among individuals aged 18-20 in states with high and low beer tax rates."
   ]
  },
  {
   "cell_type": "code",
   "execution_count": 89,
   "metadata": {
    "colab": {
     "base_uri": "https://localhost:8080/",
     "height": 454
    },
    "id": "WcjHE912ytc0",
    "outputId": "26b5a08a-2948-4dba-90b0-efbf21b7cd21"
   },
   "outputs": [
    {
     "name": "stderr",
     "output_type": "stream",
     "text": [
      "\u001b[1m\u001b[22m`geom_smooth()` using formula = 'y ~ x'\n"
     ]
    },
    {
     "data": {
      "image/png": "[encoded data removed]",
      "text/plain": [
       "plot without title"
      ]
     },
     "metadata": {
      "image/png": {
       "height": 420,
       "width": 420
      }
     },
     "output_type": "display_data"
    }
   ],
   "source": [
    "# Scatter plot with regression line\n",
    "ggplot(log_cleaned_df, aes(x = log_beertax, y = log_fatal1820)) +\n",
    "  geom_point(aes(color = tax_group), alpha = 0.6) +  # Color points by tax group\n",
    "  geom_smooth(method = \"lm\", color = \"blue\") +  # Adds a linear regression line\n",
    "  labs(title = \"Relationship between Beer Tax and Fatality Rates among Young Drivers\",\n",
    "       x = \"Log-transformrd Beer Tax Rate\", y = \"Log-transformed Fatality Rate\") +\n",
    "  theme_minimal()\n"
   ]
  },
  {
   "cell_type": "markdown",
   "metadata": {
    "id": "1ngyEM4zFtL-"
   },
   "source": [
    "#### Interpretation from the above plot:\n",
    "\n",
    "- The regression line has a positive slope, indicating a direct correlation between the rates of beer tax and the logarithmically transformed mortality rates among young drivers in the sample.\n",
    "\n",
    "- Confidence Interval: The broad confidence band surrounding the regression line is the 95% confidence interval for the expected average mortality rate for each beer tax rate."
   ]
  },
  {
   "cell_type": "markdown",
   "metadata": {
    "id": "Tw56id8MJMlO"
   },
   "source": [
    "### Hypothesis Testing\n",
    "\n",
    "Trying to investigate the potential effect of public transportation availabilty on traffic fatality rates.\n",
    "\n",
    "* Null Hypothesis (H0): States public transit systems have no effect on the number of road fatalities.\n",
    "* Alternative Hypothesis (H1): ones with larger public transit networks experience fewer road fatalities than ones with smaller networks.\n",
    "\n",
    "Given the absence of direct observation of public transit availability in the dataset, need to search for a proxy variable.\n",
    "\n",
    "Proxy Variables:\n",
    "\n",
    "1. By utilizing the metric of 'miles' as an average measure per driver, it is possible to infer a negative correlation with the usage of public transportation.\n",
    "2. By utilizing the concept of 'urbanization' (which is not explicitly mentioned), we may employ statistics on the proportion of individuals residing in urban regions as a substitute measure for assessing the accessibility of public transit.\n",
    "\n",
    "\n"
   ]
  },
  {
   "cell_type": "markdown",
   "metadata": {
    "id": "lP7ht5p9MUr_"
   },
   "source": [
    "#### Revamped Hypothesis:\n",
    "\n",
    "* Null Hypothesis (H0): States with lower average miles per driver (showing a lesser usage of public transportation) and higher average miles per driver do not significantly vary in their incidence of road fatalities.\n",
    "* Alternative hypothesis (H1): Asserts that states with a greater average number of miles driven per driver have higher rates of traffic fatalities compared to those with a lower average number of miles driven per driver.\n"
   ]
  },
  {
   "cell_type": "code",
   "execution_count": 90,
   "metadata": {
    "colab": {
     "base_uri": "https://localhost:8080/",
     "height": 0
    },
    "id": "mb38_C72-ril",
    "outputId": "56d540ff-cf44-46cd-f174-73f5f21208a4"
   },
   "outputs": [
    {
     "data": {
      "text/html": [
       "<table class=\"dataframe\">\n",
       "<caption>A tibble: 6 × 69</caption>\n",
       "<thead>\n",
       "\t<tr><th scope=col>...1</th><th scope=col>state</th><th scope=col>year</th><th scope=col>spirits</th><th scope=col>unemp</th><th scope=col>income</th><th scope=col>emppop</th><th scope=col>beertax</th><th scope=col>baptist</th><th scope=col>mormon</th><th scope=col>⋯</th><th scope=col>log_pop1517</th><th scope=col>log_pop1820</th><th scope=col>log_pop2124</th><th scope=col>log_milestot</th><th scope=col>log_unempus</th><th scope=col>log_emppopus</th><th scope=col>log_gsp</th><th scope=col>income_quartile</th><th scope=col>tax_group</th><th scope=col>miles_group</th></tr>\n",
       "\t<tr><th scope=col>&lt;dbl&gt;</th><th scope=col>&lt;chr&gt;</th><th scope=col>&lt;dbl&gt;</th><th scope=col>&lt;dbl&gt;</th><th scope=col>&lt;dbl&gt;</th><th scope=col>&lt;dbl&gt;</th><th scope=col>&lt;dbl&gt;</th><th scope=col>&lt;dbl&gt;</th><th scope=col>&lt;dbl&gt;</th><th scope=col>&lt;dbl&gt;</th><th scope=col>⋯</th><th scope=col>&lt;dbl&gt;</th><th scope=col>&lt;dbl&gt;</th><th scope=col>&lt;dbl&gt;</th><th scope=col>&lt;dbl&gt;</th><th scope=col>&lt;dbl&gt;</th><th scope=col>&lt;dbl&gt;</th><th scope=col>&lt;dbl&gt;</th><th scope=col>&lt;int&gt;</th><th scope=col>&lt;chr&gt;</th><th scope=col>&lt;chr&gt;</th></tr>\n",
       "</thead>\n",
       "<tbody>\n",
       "\t<tr><td>1</td><td>al</td><td>1982</td><td>1.37</td><td>14.4</td><td>10544.15</td><td>50.69204</td><td>1.539379</td><td>30.3557</td><td>0.32829</td><td>⋯</td><td>12.25009</td><td>12.30842</td><td>12.57764</td><td>10.25826</td><td>2.370244</td><td>4.074142</td><td>0.09668806</td><td>1</td><td>High</td><td>Low </td></tr>\n",
       "\t<tr><td>2</td><td>al</td><td>1983</td><td>1.36</td><td>13.7</td><td>10732.80</td><td>52.14703</td><td>1.788991</td><td>30.3336</td><td>0.34341</td><td>⋯</td><td>12.21603</td><td>12.29740</td><td>12.57764</td><td>10.34281</td><td>2.360854</td><td>4.075841</td><td>0.15717444</td><td>1</td><td>High</td><td>High</td></tr>\n",
       "\t<tr><td>3</td><td>al</td><td>1984</td><td>1.32</td><td>11.1</td><td>11108.79</td><td>54.16809</td><td>1.714286</td><td>30.3115</td><td>0.35924</td><td>⋯</td><td>12.19096</td><td>12.28638</td><td>12.57072</td><td>10.40311</td><td>2.140066</td><td>4.102643</td><td>0.17095664</td><td>1</td><td>High</td><td>High</td></tr>\n",
       "\t<tr><td>4</td><td>al</td><td>1985</td><td>1.28</td><td> 8.9</td><td>11332.63</td><td>55.27114</td><td>1.652542</td><td>30.2895</td><td>0.37579</td><td>⋯</td><td>12.18076</td><td>12.27537</td><td>12.55673</td><td>10.46573</td><td>2.104134</td><td>4.112512</td><td>0.14074532</td><td>1</td><td>High</td><td>High</td></tr>\n",
       "\t<tr><td>5</td><td>al</td><td>1986</td><td>1.23</td><td> 9.8</td><td>11661.51</td><td>56.51450</td><td>1.609907</td><td>30.2674</td><td>0.39311</td><td>⋯</td><td>12.22588</td><td>12.26435</td><td>12.47991</td><td>10.49847</td><td>2.079442</td><td>4.122284</td><td>0.14477926</td><td>1</td><td>High</td><td>High</td></tr>\n",
       "\t<tr><td>6</td><td>al</td><td>1987</td><td>1.18</td><td> 7.8</td><td>11944.00</td><td>57.50988</td><td>1.560000</td><td>30.2453</td><td>0.41123</td><td>⋯</td><td>12.23077</td><td>12.25009</td><td>12.46459</td><td>10.53015</td><td>1.974081</td><td>4.135167</td><td>0.15923872</td><td>1</td><td>High</td><td>High</td></tr>\n",
       "</tbody>\n",
       "</table>\n"
      ],
      "text/latex": [
       "A tibble: 6 × 69\n",
       "\\begin{tabular}{lllllllllllllllllllll}\n",
       " ...1 & state & year & spirits & unemp & income & emppop & beertax & baptist & mormon & ⋯ & log\\_pop1517 & log\\_pop1820 & log\\_pop2124 & log\\_milestot & log\\_unempus & log\\_emppopus & log\\_gsp & income\\_quartile & tax\\_group & miles\\_group\\\\\n",
       " <dbl> & <chr> & <dbl> & <dbl> & <dbl> & <dbl> & <dbl> & <dbl> & <dbl> & <dbl> & ⋯ & <dbl> & <dbl> & <dbl> & <dbl> & <dbl> & <dbl> & <dbl> & <int> & <chr> & <chr>\\\\\n",
       "\\hline\n",
       "\t 1 & al & 1982 & 1.37 & 14.4 & 10544.15 & 50.69204 & 1.539379 & 30.3557 & 0.32829 & ⋯ & 12.25009 & 12.30842 & 12.57764 & 10.25826 & 2.370244 & 4.074142 & 0.09668806 & 1 & High & Low \\\\\n",
       "\t 2 & al & 1983 & 1.36 & 13.7 & 10732.80 & 52.14703 & 1.788991 & 30.3336 & 0.34341 & ⋯ & 12.21603 & 12.29740 & 12.57764 & 10.34281 & 2.360854 & 4.075841 & 0.15717444 & 1 & High & High\\\\\n",
       "\t 3 & al & 1984 & 1.32 & 11.1 & 11108.79 & 54.16809 & 1.714286 & 30.3115 & 0.35924 & ⋯ & 12.19096 & 12.28638 & 12.57072 & 10.40311 & 2.140066 & 4.102643 & 0.17095664 & 1 & High & High\\\\\n",
       "\t 4 & al & 1985 & 1.28 &  8.9 & 11332.63 & 55.27114 & 1.652542 & 30.2895 & 0.37579 & ⋯ & 12.18076 & 12.27537 & 12.55673 & 10.46573 & 2.104134 & 4.112512 & 0.14074532 & 1 & High & High\\\\\n",
       "\t 5 & al & 1986 & 1.23 &  9.8 & 11661.51 & 56.51450 & 1.609907 & 30.2674 & 0.39311 & ⋯ & 12.22588 & 12.26435 & 12.47991 & 10.49847 & 2.079442 & 4.122284 & 0.14477926 & 1 & High & High\\\\\n",
       "\t 6 & al & 1987 & 1.18 &  7.8 & 11944.00 & 57.50988 & 1.560000 & 30.2453 & 0.41123 & ⋯ & 12.23077 & 12.25009 & 12.46459 & 10.53015 & 1.974081 & 4.135167 & 0.15923872 & 1 & High & High\\\\\n",
       "\\end{tabular}\n"
      ],
      "text/markdown": [
       "\n",
       "A tibble: 6 × 69\n",
       "\n",
       "| ...1 &lt;dbl&gt; | state &lt;chr&gt; | year &lt;dbl&gt; | spirits &lt;dbl&gt; | unemp &lt;dbl&gt; | income &lt;dbl&gt; | emppop &lt;dbl&gt; | beertax &lt;dbl&gt; | baptist &lt;dbl&gt; | mormon &lt;dbl&gt; | ⋯ ⋯ | log_pop1517 &lt;dbl&gt; | log_pop1820 &lt;dbl&gt; | log_pop2124 &lt;dbl&gt; | log_milestot &lt;dbl&gt; | log_unempus &lt;dbl&gt; | log_emppopus &lt;dbl&gt; | log_gsp &lt;dbl&gt; | income_quartile &lt;int&gt; | tax_group &lt;chr&gt; | miles_group &lt;chr&gt; |\n",
       "|---|---|---|---|---|---|---|---|---|---|---|---|---|---|---|---|---|---|---|---|---|\n",
       "| 1 | al | 1982 | 1.37 | 14.4 | 10544.15 | 50.69204 | 1.539379 | 30.3557 | 0.32829 | ⋯ | 12.25009 | 12.30842 | 12.57764 | 10.25826 | 2.370244 | 4.074142 | 0.09668806 | 1 | High | Low  |\n",
       "| 2 | al | 1983 | 1.36 | 13.7 | 10732.80 | 52.14703 | 1.788991 | 30.3336 | 0.34341 | ⋯ | 12.21603 | 12.29740 | 12.57764 | 10.34281 | 2.360854 | 4.075841 | 0.15717444 | 1 | High | High |\n",
       "| 3 | al | 1984 | 1.32 | 11.1 | 11108.79 | 54.16809 | 1.714286 | 30.3115 | 0.35924 | ⋯ | 12.19096 | 12.28638 | 12.57072 | 10.40311 | 2.140066 | 4.102643 | 0.17095664 | 1 | High | High |\n",
       "| 4 | al | 1985 | 1.28 |  8.9 | 11332.63 | 55.27114 | 1.652542 | 30.2895 | 0.37579 | ⋯ | 12.18076 | 12.27537 | 12.55673 | 10.46573 | 2.104134 | 4.112512 | 0.14074532 | 1 | High | High |\n",
       "| 5 | al | 1986 | 1.23 |  9.8 | 11661.51 | 56.51450 | 1.609907 | 30.2674 | 0.39311 | ⋯ | 12.22588 | 12.26435 | 12.47991 | 10.49847 | 2.079442 | 4.122284 | 0.14477926 | 1 | High | High |\n",
       "| 6 | al | 1987 | 1.18 |  7.8 | 11944.00 | 57.50988 | 1.560000 | 30.2453 | 0.41123 | ⋯ | 12.23077 | 12.25009 | 12.46459 | 10.53015 | 1.974081 | 4.135167 | 0.15923872 | 1 | High | High |\n",
       "\n"
      ],
      "text/plain": [
       "  ...1 state year spirits unemp income   emppop   beertax  baptist mormon  ⋯\n",
       "1 1    al    1982 1.37    14.4  10544.15 50.69204 1.539379 30.3557 0.32829 ⋯\n",
       "2 2    al    1983 1.36    13.7  10732.80 52.14703 1.788991 30.3336 0.34341 ⋯\n",
       "3 3    al    1984 1.32    11.1  11108.79 54.16809 1.714286 30.3115 0.35924 ⋯\n",
       "4 4    al    1985 1.28     8.9  11332.63 55.27114 1.652542 30.2895 0.37579 ⋯\n",
       "5 5    al    1986 1.23     9.8  11661.51 56.51450 1.609907 30.2674 0.39311 ⋯\n",
       "6 6    al    1987 1.18     7.8  11944.00 57.50988 1.560000 30.2453 0.41123 ⋯\n",
       "  log_pop1517 log_pop1820 log_pop2124 log_milestot log_unempus log_emppopus\n",
       "1 12.25009    12.30842    12.57764    10.25826     2.370244    4.074142    \n",
       "2 12.21603    12.29740    12.57764    10.34281     2.360854    4.075841    \n",
       "3 12.19096    12.28638    12.57072    10.40311     2.140066    4.102643    \n",
       "4 12.18076    12.27537    12.55673    10.46573     2.104134    4.112512    \n",
       "5 12.22588    12.26435    12.47991    10.49847     2.079442    4.122284    \n",
       "6 12.23077    12.25009    12.46459    10.53015     1.974081    4.135167    \n",
       "  log_gsp    income_quartile tax_group miles_group\n",
       "1 0.09668806 1               High      Low        \n",
       "2 0.15717444 1               High      High       \n",
       "3 0.17095664 1               High      High       \n",
       "4 0.14074532 1               High      High       \n",
       "5 0.14477926 1               High      High       \n",
       "6 0.15923872 1               High      High       "
      ]
     },
     "metadata": {},
     "output_type": "display_data"
    }
   ],
   "source": [
    "median_miles <- median(log_cleaned_df$log_miles, na.rm = TRUE)\n",
    "log_cleaned_df <- log_cleaned_df %>%\n",
    "  mutate(miles_group = ifelse(log_miles > median_miles, \"High\", \"Low\"))\n",
    "\n",
    "\n",
    "head(log_cleaned_df)"
   ]
  },
  {
   "cell_type": "code",
   "execution_count": 91,
   "metadata": {
    "colab": {
     "base_uri": "https://localhost:8080/"
    },
    "id": "I2pvYYeAOCD7",
    "outputId": "2a844e35-af00-4809-bc62-24aa3606bbce"
   },
   "outputs": [
    {
     "name": "stdout",
     "output_type": "stream",
     "text": [
      "\n",
      "\tWelch Two Sample t-test\n",
      "\n",
      "data:  log_fatal by miles_group\n",
      "t = -3.2242, df = 320.41, p-value = 0.001393\n",
      "alternative hypothesis: true difference in means between group High and group Low is not equal to 0\n",
      "95 percent confidence interval:\n",
      " -0.5188019 -0.1255943\n",
      "sample estimates:\n",
      "mean in group High  mean in group Low \n",
      "          6.268869           6.591067 \n",
      "\n"
     ]
    }
   ],
   "source": [
    "t_test_results <- t.test(log_fatal ~ miles_group, data = log_cleaned_df)\n",
    "\n",
    "print(t_test_results)"
   ]
  },
  {
   "cell_type": "markdown",
   "metadata": {
    "id": "VcekioN3VRJK"
   },
   "source": [
    "#### Interpretation:\n",
    "The findings of the Welch Two Sample t-test offer useful insights into the correlation between the average number of kilometers traveled per driver and the rates of traffic fatalities:\n",
    "\n",
    "* t-Statistic: The t-value is -3.2242. The presence of the negative sign signifies that the average logarithmically converted mortality rate for the \"High Mileage\" group is lower than that of the \"Low Mileage\" group.\n",
    "* Degree of Freedom: The exam has roughly 320.41 degrees of freedom.\n",
    "* P-value: The p-value is 0.001393, which falls below the standard alpha limit of 0.05. This indicates that the observed difference in means is statistically significant.\n",
    "* Confidence Interval: The 95% confidence interval for the difference in averages is -0.5188 to -0.1256.\n",
    "* The mean estimates indicate that the log-transformed mortality rate for the \"High Mileage\" group is 6.268869, whereas for the \"Low Mileage\" group, it is 6.591067.\n",
    "\n"
   ]
  },
  {
   "cell_type": "code",
   "execution_count": 92,
   "metadata": {
    "colab": {
     "base_uri": "https://localhost:8080/"
    },
    "id": "zFph-W0kOfAc",
    "outputId": "6177f508-c53a-414a-9df7-f473fc8a6d97"
   },
   "outputs": [
    {
     "name": "stdout",
     "output_type": "stream",
     "text": [
      "Reject the Null Hypothesis: There is a significant difference in fatality rates between the High Mileage and Low Mileage groups.\n"
     ]
    }
   ],
   "source": [
    "if (t_test_results$p.value < 0.05) {\n",
    "  cat(\"Reject the Null Hypothesis: There is a significant difference in fatality rates between the High Mileage and Low Mileage groups.\\n\")\n",
    "} else {\n",
    "  cat(\"Fail to Reject the Null Hypothesis: There is no significant difference in fatality rates between the High Mileage and Low Mileage groups.\\n\")\n",
    "}"
   ]
  },
  {
   "cell_type": "markdown",
   "metadata": {
    "id": "4reHTA1lWvhh"
   },
   "source": [
    "Based on the statistical evidence (p-value < 0.05), we may conclude that there is a substantial difference in traffic fatality rates between states with greater and lower average kilometers traveled per driver."
   ]
  },
  {
   "cell_type": "code",
   "execution_count": 93,
   "metadata": {
    "colab": {
     "base_uri": "https://localhost:8080/",
     "height": 437
    },
    "id": "A3ktRjNgPrZO",
    "outputId": "118c4957-d321-4fed-9e89-ad7b7682b809"
   },
   "outputs": [
    {
     "data": {
      "image/png": "[encoded data removed]",
      "text/plain": [
       "plot without title"
      ]
     },
     "metadata": {
      "image/png": {
       "height": 420,
       "width": 420
      }
     },
     "output_type": "display_data"
    }
   ],
   "source": [
    "ggplot(log_cleaned_df, aes(x = log_fatal, fill = miles_group)) +\n",
    "  geom_histogram(position = \"identity\", alpha = 0.5, bins = 30) +\n",
    "  labs(title = \"Histogram of Fatality Rates by Mileage Group\",\n",
    "       x = \"Log-transformed Fatality Rate\", y = \"Count\") +\n",
    "  scale_fill_manual(values = c(\"blue\", \"red\"), labels = c(\"High Mileage\", \"Low Mileage\")) +\n",
    "  theme_minimal()\n"
   ]
  },
  {
   "cell_type": "markdown",
   "metadata": {
    "id": "2kmuNf1MZSoq"
   },
   "source": [
    "#### Interpretation from the above plot:\n",
    "Both groups exhibit a bimodal distribution, indicating the presence of two distinct levels of mortality rates in each group. The group with lower distance tends to have a greater occurrence of states with higher mortality rates that have been translated using a logarithmic scale."
   ]
  },
  {
   "cell_type": "code",
   "execution_count": 94,
   "metadata": {
    "colab": {
     "base_uri": "https://localhost:8080/",
     "height": 437
    },
    "id": "U-PAXzWCXibS",
    "outputId": "a2649dd4-449d-4802-d9c1-1f2244341d0e"
   },
   "outputs": [
    {
     "data": {
      "image/png": "[encoded data removed]",
      "text/plain": [
       "plot without title"
      ]
     },
     "metadata": {
      "image/png": {
       "height": 420,
       "width": 420
      }
     },
     "output_type": "display_data"
    }
   ],
   "source": [
    "ggplot(log_cleaned_df, aes(x = log_fatal, fill = miles_group)) +\n",
    "  geom_density(alpha = 0.5) +\n",
    "  labs(title = \"Density of Fatality Rates by Mileage Group\",\n",
    "       x = \"Log-transformed Fatality Rate\", y = \"Density\") +\n",
    "  scale_fill_manual(values = c(\"blue\", \"red\"), labels = c(\"High Mileage\", \"Low Mileage\")) +\n",
    "  theme_minimal()"
   ]
  },
  {
   "cell_type": "markdown",
   "metadata": {
    "id": "0NywsUt7ZlaL"
   },
   "source": [
    "#### Interpretation from the above plot:\n",
    "\n",
    "The density map offers a smoothed estimation of the distribution for both groups. Corroborating the information from the histogram, the density plot reveals that the group with little miles (depicted in red) has a more pronounced distribution towards the higher values, indicating a likelihood of greater fatality rates."
   ]
  },
  {
   "cell_type": "markdown",
   "metadata": {
    "id": "g4ccJRQdaJfH"
   },
   "source": [
    "#### Statistical Inference:\n",
    "\n",
    "The statistical analysis of the visualizations reveals that the group with higher mileage has a distribution of fatality rates that is skewed towards lower values in comparison to the group with lower mileage. The previous t-test verified the statistical significance of this difference, as evidenced by a p-value that was significantly lower than the 0.05 threshold.\n"
   ]
  },
  {
   "cell_type": "markdown",
   "metadata": {
    "id": "kEdMMvs9us8w"
   },
   "source": [
    "### Hypothesis Testing with Randomization:\n",
    "\n",
    "In order to examine the hypothesis that there is a correlation between higher per capita personal income and lower vehicle fatalities among young drivers, we will employ the method of randomization testing.\n",
    "\n",
    "* Null Hypothesis (H0): Among young drivers, there is no correlation between per capita personal income and vehicle fatalities (ages 15–24, using fatal1517, fatal1820, and fatal2124 variables). The observed relationship is just coincidental.\n",
    "* Alternative Hypothesis (H1): There is a negative correlation between per capita personal income and vehicle fatalities among young drivers.\n"
   ]
  },
  {
   "cell_type": "code",
   "execution_count": 95,
   "metadata": {
    "colab": {
     "base_uri": "https://localhost:8080/",
     "height": 0
    },
    "id": "KRsN6nGGvVkN",
    "outputId": "df5b0ef5-029a-459e-e1ba-63b90529ec14"
   },
   "outputs": [
    {
     "data": {
      "text/html": [
       "<table class=\"dataframe\">\n",
       "<caption>A tibble: 6 × 70</caption>\n",
       "<thead>\n",
       "\t<tr><th scope=col>...1</th><th scope=col>state</th><th scope=col>year</th><th scope=col>spirits</th><th scope=col>unemp</th><th scope=col>income</th><th scope=col>emppop</th><th scope=col>beertax</th><th scope=col>baptist</th><th scope=col>mormon</th><th scope=col>⋯</th><th scope=col>log_pop1820</th><th scope=col>log_pop2124</th><th scope=col>log_milestot</th><th scope=col>log_unempus</th><th scope=col>log_emppopus</th><th scope=col>log_gsp</th><th scope=col>income_quartile</th><th scope=col>tax_group</th><th scope=col>miles_group</th><th scope=col>young_driver_fatalities</th></tr>\n",
       "\t<tr><th scope=col>&lt;dbl&gt;</th><th scope=col>&lt;chr&gt;</th><th scope=col>&lt;dbl&gt;</th><th scope=col>&lt;dbl&gt;</th><th scope=col>&lt;dbl&gt;</th><th scope=col>&lt;dbl&gt;</th><th scope=col>&lt;dbl&gt;</th><th scope=col>&lt;dbl&gt;</th><th scope=col>&lt;dbl&gt;</th><th scope=col>&lt;dbl&gt;</th><th scope=col>⋯</th><th scope=col>&lt;dbl&gt;</th><th scope=col>&lt;dbl&gt;</th><th scope=col>&lt;dbl&gt;</th><th scope=col>&lt;dbl&gt;</th><th scope=col>&lt;dbl&gt;</th><th scope=col>&lt;dbl&gt;</th><th scope=col>&lt;int&gt;</th><th scope=col>&lt;chr&gt;</th><th scope=col>&lt;chr&gt;</th><th scope=col>&lt;dbl&gt;</th></tr>\n",
       "</thead>\n",
       "<tbody>\n",
       "\t<tr><td>1</td><td>al</td><td>1982</td><td>1.37</td><td>14.4</td><td>10544.15</td><td>50.69204</td><td>1.539379</td><td>30.3557</td><td>0.32829</td><td>⋯</td><td>12.30842</td><td>12.57764</td><td>10.25826</td><td>2.370244</td><td>4.074142</td><td>0.09668806</td><td>1</td><td>High</td><td>Low </td><td>13.38994</td></tr>\n",
       "\t<tr><td>2</td><td>al</td><td>1983</td><td>1.36</td><td>13.7</td><td>10732.80</td><td>52.14703</td><td>1.788991</td><td>30.3336</td><td>0.34341</td><td>⋯</td><td>12.29740</td><td>12.57764</td><td>10.34281</td><td>2.360854</td><td>4.075841</td><td>0.15717444</td><td>1</td><td>High</td><td>High</td><td>13.79633</td></tr>\n",
       "\t<tr><td>3</td><td>al</td><td>1984</td><td>1.32</td><td>11.1</td><td>11108.79</td><td>54.16809</td><td>1.714286</td><td>30.3115</td><td>0.35924</td><td>⋯</td><td>12.28638</td><td>12.57072</td><td>10.40311</td><td>2.140066</td><td>4.102643</td><td>0.17095664</td><td>1</td><td>High</td><td>High</td><td>13.33554</td></tr>\n",
       "\t<tr><td>4</td><td>al</td><td>1985</td><td>1.28</td><td> 8.9</td><td>11332.63</td><td>55.27114</td><td>1.652542</td><td>30.2895</td><td>0.37579</td><td>⋯</td><td>12.27537</td><td>12.55673</td><td>10.46573</td><td>2.104134</td><td>4.112512</td><td>0.14074532</td><td>1</td><td>High</td><td>High</td><td>13.56475</td></tr>\n",
       "\t<tr><td>5</td><td>al</td><td>1986</td><td>1.23</td><td> 9.8</td><td>11661.51</td><td>56.51450</td><td>1.609907</td><td>30.2674</td><td>0.39311</td><td>⋯</td><td>12.26435</td><td>12.47991</td><td>10.49847</td><td>2.079442</td><td>4.122284</td><td>0.14477926</td><td>1</td><td>High</td><td>High</td><td>14.00212</td></tr>\n",
       "\t<tr><td>6</td><td>al</td><td>1987</td><td>1.18</td><td> 7.8</td><td>11944.00</td><td>57.50988</td><td>1.560000</td><td>30.2453</td><td>0.41123</td><td>⋯</td><td>12.25009</td><td>12.46459</td><td>10.53015</td><td>1.974081</td><td>4.135167</td><td>0.15923872</td><td>1</td><td>High</td><td>High</td><td>14.34038</td></tr>\n",
       "</tbody>\n",
       "</table>\n"
      ],
      "text/latex": [
       "A tibble: 6 × 70\n",
       "\\begin{tabular}{lllllllllllllllllllll}\n",
       " ...1 & state & year & spirits & unemp & income & emppop & beertax & baptist & mormon & ⋯ & log\\_pop1820 & log\\_pop2124 & log\\_milestot & log\\_unempus & log\\_emppopus & log\\_gsp & income\\_quartile & tax\\_group & miles\\_group & young\\_driver\\_fatalities\\\\\n",
       " <dbl> & <chr> & <dbl> & <dbl> & <dbl> & <dbl> & <dbl> & <dbl> & <dbl> & <dbl> & ⋯ & <dbl> & <dbl> & <dbl> & <dbl> & <dbl> & <dbl> & <int> & <chr> & <chr> & <dbl>\\\\\n",
       "\\hline\n",
       "\t 1 & al & 1982 & 1.37 & 14.4 & 10544.15 & 50.69204 & 1.539379 & 30.3557 & 0.32829 & ⋯ & 12.30842 & 12.57764 & 10.25826 & 2.370244 & 4.074142 & 0.09668806 & 1 & High & Low  & 13.38994\\\\\n",
       "\t 2 & al & 1983 & 1.36 & 13.7 & 10732.80 & 52.14703 & 1.788991 & 30.3336 & 0.34341 & ⋯ & 12.29740 & 12.57764 & 10.34281 & 2.360854 & 4.075841 & 0.15717444 & 1 & High & High & 13.79633\\\\\n",
       "\t 3 & al & 1984 & 1.32 & 11.1 & 11108.79 & 54.16809 & 1.714286 & 30.3115 & 0.35924 & ⋯ & 12.28638 & 12.57072 & 10.40311 & 2.140066 & 4.102643 & 0.17095664 & 1 & High & High & 13.33554\\\\\n",
       "\t 4 & al & 1985 & 1.28 &  8.9 & 11332.63 & 55.27114 & 1.652542 & 30.2895 & 0.37579 & ⋯ & 12.27537 & 12.55673 & 10.46573 & 2.104134 & 4.112512 & 0.14074532 & 1 & High & High & 13.56475\\\\\n",
       "\t 5 & al & 1986 & 1.23 &  9.8 & 11661.51 & 56.51450 & 1.609907 & 30.2674 & 0.39311 & ⋯ & 12.26435 & 12.47991 & 10.49847 & 2.079442 & 4.122284 & 0.14477926 & 1 & High & High & 14.00212\\\\\n",
       "\t 6 & al & 1987 & 1.18 &  7.8 & 11944.00 & 57.50988 & 1.560000 & 30.2453 & 0.41123 & ⋯ & 12.25009 & 12.46459 & 10.53015 & 1.974081 & 4.135167 & 0.15923872 & 1 & High & High & 14.34038\\\\\n",
       "\\end{tabular}\n"
      ],
      "text/markdown": [
       "\n",
       "A tibble: 6 × 70\n",
       "\n",
       "| ...1 &lt;dbl&gt; | state &lt;chr&gt; | year &lt;dbl&gt; | spirits &lt;dbl&gt; | unemp &lt;dbl&gt; | income &lt;dbl&gt; | emppop &lt;dbl&gt; | beertax &lt;dbl&gt; | baptist &lt;dbl&gt; | mormon &lt;dbl&gt; | ⋯ ⋯ | log_pop1820 &lt;dbl&gt; | log_pop2124 &lt;dbl&gt; | log_milestot &lt;dbl&gt; | log_unempus &lt;dbl&gt; | log_emppopus &lt;dbl&gt; | log_gsp &lt;dbl&gt; | income_quartile &lt;int&gt; | tax_group &lt;chr&gt; | miles_group &lt;chr&gt; | young_driver_fatalities &lt;dbl&gt; |\n",
       "|---|---|---|---|---|---|---|---|---|---|---|---|---|---|---|---|---|---|---|---|---|\n",
       "| 1 | al | 1982 | 1.37 | 14.4 | 10544.15 | 50.69204 | 1.539379 | 30.3557 | 0.32829 | ⋯ | 12.30842 | 12.57764 | 10.25826 | 2.370244 | 4.074142 | 0.09668806 | 1 | High | Low  | 13.38994 |\n",
       "| 2 | al | 1983 | 1.36 | 13.7 | 10732.80 | 52.14703 | 1.788991 | 30.3336 | 0.34341 | ⋯ | 12.29740 | 12.57764 | 10.34281 | 2.360854 | 4.075841 | 0.15717444 | 1 | High | High | 13.79633 |\n",
       "| 3 | al | 1984 | 1.32 | 11.1 | 11108.79 | 54.16809 | 1.714286 | 30.3115 | 0.35924 | ⋯ | 12.28638 | 12.57072 | 10.40311 | 2.140066 | 4.102643 | 0.17095664 | 1 | High | High | 13.33554 |\n",
       "| 4 | al | 1985 | 1.28 |  8.9 | 11332.63 | 55.27114 | 1.652542 | 30.2895 | 0.37579 | ⋯ | 12.27537 | 12.55673 | 10.46573 | 2.104134 | 4.112512 | 0.14074532 | 1 | High | High | 13.56475 |\n",
       "| 5 | al | 1986 | 1.23 |  9.8 | 11661.51 | 56.51450 | 1.609907 | 30.2674 | 0.39311 | ⋯ | 12.26435 | 12.47991 | 10.49847 | 2.079442 | 4.122284 | 0.14477926 | 1 | High | High | 14.00212 |\n",
       "| 6 | al | 1987 | 1.18 |  7.8 | 11944.00 | 57.50988 | 1.560000 | 30.2453 | 0.41123 | ⋯ | 12.25009 | 12.46459 | 10.53015 | 1.974081 | 4.135167 | 0.15923872 | 1 | High | High | 14.34038 |\n",
       "\n"
      ],
      "text/plain": [
       "  ...1 state year spirits unemp income   emppop   beertax  baptist mormon  ⋯\n",
       "1 1    al    1982 1.37    14.4  10544.15 50.69204 1.539379 30.3557 0.32829 ⋯\n",
       "2 2    al    1983 1.36    13.7  10732.80 52.14703 1.788991 30.3336 0.34341 ⋯\n",
       "3 3    al    1984 1.32    11.1  11108.79 54.16809 1.714286 30.3115 0.35924 ⋯\n",
       "4 4    al    1985 1.28     8.9  11332.63 55.27114 1.652542 30.2895 0.37579 ⋯\n",
       "5 5    al    1986 1.23     9.8  11661.51 56.51450 1.609907 30.2674 0.39311 ⋯\n",
       "6 6    al    1987 1.18     7.8  11944.00 57.50988 1.560000 30.2453 0.41123 ⋯\n",
       "  log_pop1820 log_pop2124 log_milestot log_unempus log_emppopus log_gsp   \n",
       "1 12.30842    12.57764    10.25826     2.370244    4.074142     0.09668806\n",
       "2 12.29740    12.57764    10.34281     2.360854    4.075841     0.15717444\n",
       "3 12.28638    12.57072    10.40311     2.140066    4.102643     0.17095664\n",
       "4 12.27537    12.55673    10.46573     2.104134    4.112512     0.14074532\n",
       "5 12.26435    12.47991    10.49847     2.079442    4.122284     0.14477926\n",
       "6 12.25009    12.46459    10.53015     1.974081    4.135167     0.15923872\n",
       "  income_quartile tax_group miles_group young_driver_fatalities\n",
       "1 1               High      Low         13.38994               \n",
       "2 1               High      High        13.79633               \n",
       "3 1               High      High        13.33554               \n",
       "4 1               High      High        13.56475               \n",
       "5 1               High      High        14.00212               \n",
       "6 1               High      High        14.34038               "
      ]
     },
     "metadata": {},
     "output_type": "display_data"
    }
   ],
   "source": [
    "log_cleaned_df <- log_cleaned_df %>%\n",
    "  mutate(young_driver_fatalities = log_fatal1517 + log_fatal1820 + log_fatal2124)\n",
    "\n",
    "head(log_cleaned_df)"
   ]
  },
  {
   "cell_type": "code",
   "execution_count": 96,
   "metadata": {
    "id": "yB5j3Bi4vVnN"
   },
   "outputs": [],
   "source": [
    "# Calculating the observed correlation\n",
    "obs_corr <- cor(log_cleaned_df$log_income, log_cleaned_df$young_driver_fatalities)\n"
   ]
  },
  {
   "cell_type": "code",
   "execution_count": 97,
   "metadata": {
    "colab": {
     "base_uri": "https://localhost:8080/"
    },
    "id": "p2FNyWkxTFtW",
    "outputId": "d88d65fd-5c35-4239-a4d1-55b9766d4e2d"
   },
   "outputs": [
    {
     "name": "stdout",
     "output_type": "stream",
     "text": [
      "Observed Correlation:  0.1825294 \n"
     ]
    }
   ],
   "source": [
    "cat(\"Observed Correlation: \", obs_corr, \"\\n\")"
   ]
  },
  {
   "cell_type": "code",
   "execution_count": 98,
   "metadata": {
    "id": "DBgHyhy7vVp2"
   },
   "outputs": [],
   "source": [
    "n_perm <- 1500\n",
    "perm_corrs <- numeric(n_perm)\n",
    "\n",
    "# Conducting the randomization test\n",
    "set.seed(123) \n",
    "for (i in 1:n_perm) {\n",
    "  # Randomly shuffle the income variable\n",
    "  shuffled_income <- sample(log_cleaned_df$log_income)\n",
    "\n",
    "  # Calculating the correlation for this permutation\n",
    "  perm_corrs[i] <- cor(shuffled_income, log_cleaned_df$young_driver_fatalities)\n",
    "}\n"
   ]
  },
  {
   "cell_type": "code",
   "execution_count": 99,
   "metadata": {
    "colab": {
     "base_uri": "https://localhost:8080/",
     "height": 0
    },
    "id": "ofTcp3bevVsx",
    "outputId": "ca877937-e4bb-4762-c052-eda6184e2fa4"
   },
   "outputs": [
    {
     "data": {
      "text/html": [
       "0.000666666666666667"
      ],
      "text/latex": [
       "0.000666666666666667"
      ],
      "text/markdown": [
       "0.000666666666666667"
      ],
      "text/plain": [
       "[1] 0.0006666667"
      ]
     },
     "metadata": {},
     "output_type": "display_data"
    }
   ],
   "source": [
    "# the p-value\n",
    "p_value <- mean(abs(perm_corrs) >= abs(obs_corr))\n",
    "\n",
    "p_value\n"
   ]
  },
  {
   "cell_type": "markdown",
   "metadata": {
    "id": "aVjHkq5jNE8A"
   },
   "source": [
    "After doing a permutation-based hypothesis test with 1,500 permutations, a statistically significant link between per capita personal income and vehicle fatality rates among young drivers. The permutation test resulted in a p-value of around 0.000667. With a standard alpha level of 0.05, this p-value provides strong evidence to reject the null hypothesis. This indicates a likelihood of less than 0.\n",
    "\n",
    "\n"
   ]
  },
  {
   "cell_type": "code",
   "execution_count": 100,
   "metadata": {
    "colab": {
     "base_uri": "https://localhost:8080/"
    },
    "id": "n0-LzDMBvVvP",
    "outputId": "d14e4aa5-b7b4-40f7-aa1c-ebc2c3673618"
   },
   "outputs": [
    {
     "name": "stdout",
     "output_type": "stream",
     "text": [
      "Reject the Null Hypothesis: There is evidence of an association between income and vehicle fatalities among young drivers.\n"
     ]
    }
   ],
   "source": [
    "# Interpret the p-value\n",
    "if (p_value < 0.05) {\n",
    "  cat(\"Reject the Null Hypothesis: There is evidence of an association between income and vehicle fatalities among young drivers.\\n\")\n",
    "} else {\n",
    "  cat(\"Fail to Reject the Null Hypothesis: There is no evidence of an association between income and vehicle fatalities among young drivers.\\n\")\n",
    "}\n"
   ]
  },
  {
   "cell_type": "markdown",
   "metadata": {
    "id": "PWVcpyaSVUp0"
   },
   "source": [
    "#### Interpretation:\n",
    "\n",
    "It is crucial to emphasize that the permutation test does not assume anything about the distribution of the test statistic when considering the null hypothesis. The test results suggest a significant correlation between increased per capita personal incomes and a decrease in vehicle deaths among young drivers.\n"
   ]
  },
  {
   "cell_type": "code",
   "execution_count": 101,
   "metadata": {
    "colab": {
     "base_uri": "https://localhost:8080/",
     "height": 0
    },
    "id": "Mmhu0K0FvVyu",
    "outputId": "9c07ac7a-6034-425d-8f7e-5a07d6c76f46"
   },
   "outputs": [
    {
     "data": {
      "image/png": "[encoded data removed]",
      "text/plain": [
       "plot without title"
      ]
     },
     "metadata": {
      "image/png": {
       "height": 420,
       "width": 420
      }
     },
     "output_type": "display_data"
    }
   ],
   "source": [
    "# data frame for plotting\n",
    "perm_data <- data.frame(perm_corrs)\n",
    "\n",
    "# Histogram of permuted correlations with observed correlation line\n",
    "ggplot(perm_data, aes(x = perm_corrs)) +\n",
    "  geom_histogram(bins = 30, fill = 'blue', color = 'black', alpha = 0.7) +\n",
    "  geom_vline(aes(xintercept = obs_corr), color = \"red\", linetype = \"dashed\", size = 1.5) +\n",
    "  labs(title = \"Distribution of Permuted Correlation Coefficients\",\n",
    "       subtitle = paste(\"Observed Correlation:\", round(obs_corr, 4), \"\\nP-value:\", round(0.000667, 4)),\n",
    "       x = \"Correlation Coefficients\",\n",
    "       y = \"Frequency\",\n",
    "       caption = \"Histogram shows the distribution of correlation coefficients from permutation test. Red line represents the observed correlation.\") +\n",
    "  theme_minimal() +\n",
    "  theme(plot.title = element_text(size = 16, face = \"bold\"),\n",
    "        plot.subtitle = element_text(size = 14),\n",
    "        plot.caption = element_text(size = 12))\n"
   ]
  },
  {
   "cell_type": "markdown",
   "metadata": {
    "id": "-zJF2QOrcoQ2"
   },
   "source": [
    "#### Interpretation from the plot:\n",
    "\n",
    "- The observed correlation coefficient is represented by a red dashed line positioned at 0.1825. This number is an outlier, located in the upper tail of the distribution of permuted coefficients.\n",
    "\n",
    "- The test's reported p-value is 0.0007 (7e-04), which is much lower than the customary threshold of 0.05 for rejecting the null hypothesis.\n",
    "\n",
    "Analysis:\n",
    "\n",
    "The positioning of the observed correlation deep into the uppermost section of the distribution suggests that the connection identified in the sample data is extremely unusual assuming there is no connection. Based on the p-value, it confidently concluded that the null hypothesis can be rejected, indicating a statistically significant positive correlation between the variables examined.\n",
    "\n"
   ]
  },
  {
   "cell_type": "markdown",
   "metadata": {
    "id": "4IQvhZSSmvwS"
   },
   "source": [
    "### Bootstraping & Confidence Interval:\n",
    "\n",
    "`Sample Size: 9000`\n",
    "\n",
    "This study aims to calculate the average per capita personal income within our dataset, taking into account various socioeconomic and policy-related factors that may affect vehicular fatality rates. The analysis will be conducted across different states and years.\n"
   ]
  },
  {
   "cell_type": "code",
   "execution_count": 102,
   "metadata": {
    "colab": {
     "base_uri": "https://localhost:8080/"
    },
    "id": "a6r2PLPGhq1e",
    "outputId": "703ff277-c6b8-412f-8321-917820a407f3"
   },
   "outputs": [
    {
     "name": "stderr",
     "output_type": "stream",
     "text": [
      "Warning message:\n",
      "\"package 'boot' is in use and will not be installed\"\n"
     ]
    }
   ],
   "source": [
    "install.packages(\"boot\")"
   ]
  },
  {
   "cell_type": "code",
   "execution_count": 103,
   "metadata": {
    "colab": {
     "base_uri": "https://localhost:8080/"
    },
    "id": "XQBCMMtAhgFU",
    "outputId": "bb607845-a20c-4b3f-9e9b-cdf939314147"
   },
   "outputs": [
    {
     "name": "stdout",
     "output_type": "stream",
     "text": [
      "\n",
      "ORDINARY NONPARAMETRIC BOOTSTRAP\n",
      "\n",
      "\n",
      "Call:\n",
      "boot(data = log_cleaned_df, statistic = statistic_function, R = 9000)\n",
      "\n",
      "\n",
      "Bootstrap Statistics :\n",
      "    original        bias    std. error\n",
      "t1* 9.525648 -0.0001923142 0.008637974\n",
      "BOOTSTRAP CONFIDENCE INTERVAL CALCULATIONS\n",
      "Based on 9000 bootstrap replicates\n",
      "\n",
      "CALL : \n",
      "boot.ci(boot.out = boot_results, type = \"bca\")\n",
      "\n",
      "Intervals : \n",
      "Level       BCa          \n",
      "95%   ( 9.509,  9.543 )  \n",
      "Calculations and Intervals on Original Scale\n"
     ]
    }
   ],
   "source": [
    "library(boot)\n",
    "\n",
    "# Statistic function to calculate the mean of the 'income' variable\n",
    "statistic_function <- function(data, indices) {\n",
    "  sample_data <- data[indices, ]\n",
    "  mean(sample_data$log_income)  # Calculating mean of the 'income' column\n",
    "}\n",
    "\n",
    "# Bootstraping with 9000 resamples\n",
    "boot_results <- boot(log_cleaned_df, statistic = statistic_function, R = 9000)\n",
    "\n",
    "# Calculating the 95% confidence interval\n",
    "boot_confidence_interval <- boot.ci(boot_results, type = \"bca\")\n",
    "\n",
    "print(boot_results)\n",
    "print(boot_confidence_interval)"
   ]
  },
  {
   "cell_type": "markdown",
   "metadata": {
    "id": "VxN7QlzYh16s"
   },
   "source": [
    "#### Interpretation from above result:\n",
    "\n",
    "* The point estimate is 9.525648, which is the sample mean of the log_income in the bootstrap statistics.\n",
    "* The bias is negligible (-0.0003334654), indicating that the bootstrapping technique did not uncover any substantial bias in the point estimate.\n",
    "* The standard error, which is the standard deviation of the bootstrapped sample means, is 0.008972008. A smaller standard error implies a higher level of precision in estimating the mean.\n",
    "* The BCa (Bias-Corrected and Accelerated) 95% confidence interval spans from 9.509 to 9.544. This interval is created using the bootstrap distribution and is modified to account for both bias and skewness in the bootstrap estimates.\n",
    "\n",
    "Inference:\n",
    "\n",
    "A tight confidence interval suggests minimal uncertainty in the sample mean's estimate of the mean of the log-transformed per capita personal income, according to the bootstrapping methodology.\n"
   ]
  },
  {
   "cell_type": "code",
   "execution_count": 104,
   "metadata": {
    "colab": {
     "base_uri": "https://localhost:8080/",
     "height": 559
    },
    "id": "rcbgCDnih9bf",
    "outputId": "3babcf30-9ae9-4d79-e110-6359c52c97f7"
   },
   "outputs": [
    {
     "name": "stderr",
     "output_type": "stream",
     "text": [
      "Warning message in max(bootstrap_estimates$Density):\n",
      "\"no non-missing arguments to max; returning -Inf\"\n",
      "Warning message in max(bootstrap_estimates$Density):\n",
      "\"no non-missing arguments to max; returning -Inf\"\n"
     ]
    },
    {
     "data": {
      "image/png": "[encoded data removed]",
      "text/plain": [
       "plot without title"
      ]
     },
     "metadata": {
      "image/png": {
       "height": 420,
       "width": 420
      }
     },
     "output_type": "display_data"
    }
   ],
   "source": [
    "bootstrap_estimates <- data.frame(Estimates = boot_results$t)\n",
    "\n",
    "# 95% confidence interval values\n",
    "ci_lower <- 9.509\n",
    "ci_upper <- 9.544\n",
    "\n",
    "# Histogram with a density line and confidence interval lines\n",
    "plot <- ggplot(bootstrap_estimates, aes(x = Estimates)) +\n",
    "  geom_histogram(aes(y = ..density..), binwidth = 0.002, fill = \"blue\", color = \"black\", alpha = 0.7) +\n",
    "  geom_density(alpha = .2, fill = \"#FF6666\") +\n",
    "  geom_vline(xintercept = ci_lower, color = \"darkgreen\", linetype = \"dashed\", size = 1) +\n",
    "  geom_vline(xintercept = ci_upper, color = \"darkgreen\", linetype = \"dashed\", size = 1) +\n",
    "  labs(title = \"Bootstrap Estimates for Mean Income\",\n",
    "       x = \"Bootstrap Estimates\",\n",
    "       y = \"Density\") +\n",
    "  theme_minimal() +\n",
    "  theme(plot.title = element_text(size = 20, face = \"bold\"),\n",
    "        plot.subtitle = element_text(size = 18),\n",
    "        plot.caption = element_text(size = 16)) +\n",
    "  annotate(\"text\", x = ci_lower, y = max(bootstrap_estimates$Density)/2, label = paste(\"CI Lower:\", ci_lower), vjust = -1, color = \"darkgreen\") +\n",
    "  annotate(\"text\", x = ci_upper, y = max(bootstrap_estimates$Density)/2, label = paste(\"CI Upper:\", ci_upper), vjust = 2, color = \"darkgreen\")\n",
    "\n",
    "\n",
    "print(plot)\n"
   ]
  },
  {
   "cell_type": "markdown",
   "metadata": {
    "id": "J1PSXan8o9Kk"
   },
   "source": [
    "#### Interpretation from the plot:\n",
    "\n",
    "* The sample distribution of the mean appears to be about normal based on the bell-shaped distribution of the bootstrap estimates for mean income. The Central Limit Theorem remains valid even for bootstrapped samples of size 9000.\n",
    "* The confidence interval's (CI) function encapsulates the range in which most bootstrap estimates lie comes from the decline in estimate density beyond the CI.\n"
   ]
  },
  {
   "cell_type": "markdown",
   "metadata": {
    "id": "ukMO3SO6KCit"
   },
   "source": [
    "### Mean Squared Prediction Error (MSPE), F-test\n",
    "\n",
    "The objective is to forecast the number of automobile fatalities (log_fatal) by utilizing several socioeconomic and demographic factors in the United States. The primary objective is to comprehend the impact of several factors, including income, unemployment rate, employment/population ratio, beer tax, percentage of young drivers, and average kilometers traveled, on vehicle fatality rates.\n",
    "\n",
    "Prediction Variable- 'fatal'.\n",
    "\n",
    "Predictor Variables- 'income', 'unemp', 'emppopus', 'beertax', 'youngdrivers', 'miles'.\n"
   ]
  },
  {
   "cell_type": "code",
   "execution_count": 105,
   "metadata": {
    "colab": {
     "base_uri": "https://localhost:8080/"
    },
    "id": "AJiP00QOzwyH",
    "outputId": "52497371-c6b5-4d20-f017-a043cfc76882"
   },
   "outputs": [
    {
     "name": "stderr",
     "output_type": "stream",
     "text": [
      "Warning message:\n",
      "\"package 'car' is in use and will not be installed\"\n",
      "Warning message:\n",
      "\"package 'corrplot' is in use and will not be installed\"\n"
     ]
    }
   ],
   "source": [
    "install.packages(\"car\")\n",
    "install.packages(\"corrplot\")\n",
    "library(ggplot2)\n",
    "library(car)\n",
    "library(corrplot)"
   ]
  },
  {
   "cell_type": "code",
   "execution_count": 106,
   "metadata": {
    "id": "g4Lys6BB1uAw"
   },
   "outputs": [],
   "source": [
    "selected_columns <- log_cleaned_df[, c(\"log_fatal\", \"log_income\", \"log_unemp\",\n",
    "\"log_emppopus\", \"log_beertax\", \"log_youngdrivers\", \"log_miles\")]\n"
   ]
  },
  {
   "cell_type": "code",
   "execution_count": 107,
   "metadata": {
    "colab": {
     "base_uri": "https://localhost:8080/"
    },
    "id": "nwn_0DWfzfdT",
    "outputId": "1ca9df28-8f70-4ee9-ed6f-e0c63a83f92b"
   },
   "outputs": [
    {
     "name": "stdout",
     "output_type": "stream",
     "text": [
      "There are 268 rows and 7 columns in the training set. There are 68 rows and 7 columns in the testing set."
     ]
    }
   ],
   "source": [
    "\n",
    "set.seed(11111)\n",
    "n = floor(0.8 * nrow(selected_columns)) # number corresponding to 80% of the data\n",
    "\n",
    "index = sample(seq_len(nrow(selected_columns)), size = n) # Randomly sample indices to be included in the training set\n",
    "\n",
    "train = selected_columns[index, ] \n",
    "test = selected_columns[-index, ] \n",
    "cat(\"There are\", dim(train)[1], \"rows and\",dim(train)[2],\"columns in the training set. \")\n",
    "cat(\"There are\", dim(test)[1], \"rows and\",dim(test)[2],\"columns in the testing set.\") \n"
   ]
  },
  {
   "cell_type": "code",
   "execution_count": 108,
   "metadata": {
    "colab": {
     "base_uri": "https://localhost:8080/",
     "height": 437
    },
    "id": "RK0M9_-8zfgT",
    "outputId": "db0b70a4-dcba-4a6e-a051-1d036df09591"
   },
   "outputs": [
    {
     "data": {
      "image/png": "[encoded data removed]",
      "text/plain": [
       "Plot with title \"\""
      ]
     },
     "metadata": {
      "image/png": {
       "height": 420,
       "width": 420
      }
     },
     "output_type": "display_data"
    }
   ],
   "source": [
    "\n",
    "numeric_data <- train[sapply(train, is.numeric)]\n",
    "\n",
    "# Compute the correlation matrix\n",
    "cor_matrix <- cor(numeric_data)\n",
    "\n",
    "col4 <- colorRampPalette(c(\"black\", \"darkgrey\", \"grey\", \"#CFB87C\"))\n",
    "\n",
    "\n",
    "corrplot(cor_matrix, method = \"ellipse\", col = col4(100), addCoef.col = \"black\", tl.col = \"black\")\n"
   ]
  },
  {
   "cell_type": "code",
   "execution_count": 109,
   "metadata": {
    "colab": {
     "base_uri": "https://localhost:8080/"
    },
    "id": "MigRLLFszfjk",
    "outputId": "f70ea45e-dcac-4ae1-e7f6-f50a5fe800f0"
   },
   "outputs": [
    {
     "name": "stdout",
     "output_type": "stream",
     "text": [
      "Dropped variable: log_youngdrivers MSPE: 0.4218161 \n",
      "Dropped variable: log_miles MSPE: 0.4281197 \n",
      "[1] 0.4148086 0.4218161 0.4281197\n",
      "[1] \"log_youngdrivers\" \"log_miles\"       \n"
     ]
    }
   ],
   "source": [
    "fullModel <- lm(log_fatal ~ ., data=train)\n",
    "\n",
    "# Backward elimination using step function\n",
    "optimized_model <- step(fullModel, direction=\"backward\", trace=FALSE, k=log(nrow(train)),\n",
    "                        test=\"F\", p.to.remove=0.05)\n",
    "\n",
    "# Initialize a vector to keep track of MSPE at each step\n",
    "mspeTracker <- numeric()\n",
    "\n",
    "# Define a function to compute MSPE\n",
    "compute_mspe <- function(fitted_model, test_data) {\n",
    "  predicted_values <- predict(fitted_model, newdata=test_data)\n",
    "  mean((test_data$log_fatal - predicted_values)^2)\n",
    "}\n",
    "\n",
    "# Calculate MSPE for the full model\n",
    "mspeTracker <- c(mspeTracker, compute_mspe(fullModel, test))\n",
    "\n",
    "# Backward Selection step-by-step\n",
    "refinedModel <- fullModel\n",
    "variables_dropped <- character()\n",
    "while (TRUE) {\n",
    "  current_summary <- summary(refinedModel)\n",
    "\n",
    "  # Extract p-values and find the highest p-value below 1\n",
    "  current_p_values <- coef(current_summary)[,4]\n",
    "  highest_p_value <- max(current_p_values[current_p_values < 1])\n",
    "\n",
    "  # Check if the highest p-value is below the threshold or we're down to just the intercept\n",
    "  if (highest_p_value < 0.05 || length(current_p_values) == 1) {\n",
    "    break\n",
    "  }\n",
    "\n",
    "  # Identify the variable associated with the highest p-value to drop\n",
    "  variable_to_drop <- names(current_p_values)[which.max(current_p_values)]\n",
    "  variables_dropped <- c(variables_dropped, variable_to_drop)\n",
    "\n",
    "  # Update the model formula by removing the variable with the highest p-value\n",
    "  updated_formula <- as.formula(paste(\". ~ . -\", variable_to_drop))\n",
    "  refinedModel <- update(refinedModel, updated_formula)\n",
    "\n",
    "  # Compute and store the MSPE for the updated model\n",
    "  mspeTracker <- c(mspeTracker, compute_mspe(refinedModel, test))\n",
    "  cat(\"Dropped variable:\", variable_to_drop, \"MSPE:\", tail(mspeTracker, 1), \"\\n\")\n",
    "}\n",
    "\n",
    "# Print the MSPE at each step\n",
    "print(mspeTracker)\n",
    "print(variables_dropped)\n"
   ]
  },
  {
   "cell_type": "markdown",
   "metadata": {
    "id": "P2OuoZeZSRFm"
   },
   "source": [
    "#### Interpretation from the result:\n",
    "\n",
    "The MSPE increased slightly with each predictors removed:\n",
    "\n",
    "1st MSPE: 0.4148086 (Full model)\n",
    "\n",
    "2nd MSPE: After dropping log_youngdrivers: 0.4218161\n",
    "\n",
    "3rd MSPE: After dropping log_miles: 0.4281197\n",
    "\n",
    "The observed pattern suggests that with each model iteration, the MSPE (prediction error) on the test set somewhat increased after eliminating a predictor (Variable)."
   ]
  },
  {
   "cell_type": "code",
   "execution_count": 110,
   "metadata": {
    "colab": {
     "base_uri": "https://localhost:8080/",
     "height": 437
    },
    "id": "wKueH9NvzfmF",
    "outputId": "8ebcb5f2-b4b5-491c-a078-33e0fa0de1fb"
   },
   "outputs": [
    {
     "data": {
      "image/png": "[encoded data removed]",
      "text/plain": [
       "Plot with title \"\""
      ]
     },
     "metadata": {
      "image/png": {
       "height": 420,
       "width": 420
      }
     },
     "output_type": "display_data"
    }
   ],
   "source": [
    "bestModel <- refinedModel\n",
    "\n",
    "par(mfrow=c(2,2))\n",
    "plot(bestModel)"
   ]
  },
  {
   "cell_type": "markdown",
   "metadata": {
    "id": "ZiQ-yOW8Tenu"
   },
   "source": [
    "#### Interpretation from the plot:\n",
    "\n",
    "* Residuals vs Fitted: This is ideal for linearity because the residuals don't seem to show any regular pattern. Nevertheless, there appears to be a rise in the dispersion of residuals as the predicted values grow, indicating a potential breach of the homoscedasticity assumption.\n",
    "\n",
    "* Q-Q Plot: The data points closely adhere to the reference line, indicating that the residuals exhibit an approximation normal distribution. The presence of outliers of the normalcy assumption is shown by the deviations observed in the tails.\n",
    "\n",
    "* Scale-Location: It indicates that the variability of residuals is not consistent across all levels of fitted values, indicating the presence of non-homoscedasticity. Although there is no distinct pattern, the spread appears to exhibit a minor rise in correlation with the fitted values.\n",
    "\n",
    "* Residuals vs Leverage: The majority of data points exhibit little leverage, whereas a small number of points represent notable exceptions. Cook's distance, a gauge of influence, is shown by lines in the figure. Points outside of the Cook's distance lines may have significant implications and should be investigated further. Nevertheless, there is no evidence of any data points exhibiting both high leverage and large residuals.\n",
    "\n",
    "\n"
   ]
  },
  {
   "cell_type": "code",
   "execution_count": 111,
   "metadata": {
    "colab": {
     "base_uri": "https://localhost:8080/"
    },
    "id": "MGTUmZhczfpu",
    "outputId": "255cc3c3-dcea-45ee-c94b-1f2e19dee556"
   },
   "outputs": [
    {
     "name": "stdout",
     "output_type": "stream",
     "text": [
      "The best model based on MSPE criterion is Model 1 with MSPE Value of 0.4148086 \n"
     ]
    }
   ],
   "source": [
    "\n",
    "bestMSPE_Index <- which.min(mspeTracker)\n",
    "bestMSPE <- mspeTracker[bestMSPE_Index]\n",
    "\n",
    "cat(\"The best model based on MSPE criterion is Model\", bestMSPE_Index,\n",
    "    \"with MSPE Value of\", bestMSPE, \"\\n\")"
   ]
  },
  {
   "cell_type": "markdown",
   "metadata": {
    "id": "aDn6tOOBWYyY"
   },
   "source": [
    "1st Model exhibits the lowest MSPE value: 0.4148 with all the predictor variables ('income', 'unemp', 'emppopus', 'beertax', 'youngdrivers', 'miles') in use."
   ]
  },
  {
   "cell_type": "markdown",
   "metadata": {
    "id": "WwnKzgQ8XGSV"
   },
   "source": [
    "## **Report**\n",
    "\n",
    "**Author: Sayan Roy**\n",
    "\n",
    "1. Introduction:\n",
    "\n",
    "To improve road safety, it is really imperative to fully understand the underlying factors that contribute to vehicle deaths. I am driven to this topic/issue because I am fully congnizant that road fatalities are more than just numbers/ statistics; they are real, deliberate and have significant impact on populations/families. The impact of Road safety is contingent on several factors like socioeconomic, laws (Federal & State), infrastructure, etc. My case study examines are these different facets/factors really impact the road fatality rates in United States.The goal is to establish statistical basis for developing various policies to improve public health and road safety.\n",
    "\n",
    "The dataset, obtained from supplementary materials to Stock and Watson's (2007) work and first gathered for Ruhm's (1996) influential study on alcohol legislation and road deaths, provides an observational investigation that covers many states and years. The analysis involves studying actual data that occurred in the real world. The data was collected by me in a json format and then I converted the file to csv for further analysis.\n",
    "\n",
    "Previous studies have suggested links between economic properity, govermental actions and the outcomes of public health. These works lay the foundation for the studies, which intends to examine disparity in vehicle fatalities among economic (income) quartiles, the effects of beer taxes on the mortality rates of young drivers, and the impact of public transit networks on road deaths at the state level (urban and rural). In addition, analyzing the correlation between personal income levels and fatalities among young drivers using randomization testing, and evaluating average income estimates through bootstrapping.\n",
    "\n",
    "2. Methods and Results:\n",
    "\n",
    "The dataset used in this study was obtained through academic channels. It was given by my data mining professor. In data exploratory phase, thorough data cleaning has been conducted- Numerical columns with missing values (NA, NAN) underwent mean and median imputation depending on the nature of the feature and for categorical, 'Unknown' has been substituted. Additionally, the data was normalized using log transformation for skewnwss and easier to apply statistical methods.\n",
    "\n",
    "In order to analyse the questions in hand, a set of statistical tests has been conducted. ANOVA testing was used to examine differences in mortality rates among income quartiles. T-tests were conducted to examine the impact of beer tax rates on the number of deaths among young drivers. The utilization of randomization in hypothesis testing offered negative link between personal income and fatalities among young drivers.\n",
    "\n",
    "In addition, the application of bootstrapping methodology has confirmed the accuracy and reliability of the average income estimates. The Mean Squared Prediction Error (MSPE) and F-tests in regression analysis improved the predictive model by including the important variables such as employment ratios and demographic parameters to estimate mortality.\n",
    "\n",
    "Results (Notes taken from the each section of my tests):\n",
    "1. Hypothesis and ANOVA Testing:\n",
    "\n",
    "Null Hypothesis (H0): State-by-state variations in the incidence of road fatalities do not exist between income quartiles.\n",
    "\n",
    "P-value: 3.78e-06 (The exceedingly small p-value (3.78e-06), far below the threshold of 0.05, necessitates the rejection of the null hypothesis.)\n",
    "\n",
    "2. Hypothesis and T-test:\n",
    "\n",
    "Null Hypothesis (H0): There is no correlation between beer tax rates and the mortality rate of young drivers (ages 18 to 20).\n",
    "\n",
    "t-statistic = -0.79204 (The computed t-value is -0.79204, indicating the direction of the mean difference - mean of the high tax group minus mean of the low tax group.)\n",
    "P-value = 0.4289 (The p-value of 0.4289 above the standard alpha level of 0.05, suggesting insufficient statistical evidence to reject the null hypothesis.)\n",
    "\n",
    "3. Hypothesis Testing:\n",
    "\n",
    "Null Hypothesis (H0): States with lower average miles per driver (showing a lesser usage of public transportation) and higher average miles per driver do not significantly vary in their incidence of road fatalities.\n",
    "\n",
    "The p-value is 0.001393, which falls below the standard alpha limit of 0.05. This indicates that the observed difference in means is statistically significant. Therefore, reject the null hypothesis.\n",
    "\n",
    "4. Hypothesis with Randomization:\n",
    "\n",
    "Null Hypothesis (H0): Among young drivers, there is no correlation between per capita personal income and vehicle fatalities (ages 15–24, using fatal1517, fatal1820, and fatal2124 variables).\n",
    "The permutation test resulted in a p-value of around 0.000667. With a standard alpha level of 0.05, this p-value provides strong evidence to reject the null hypothesis.\n",
    "\n",
    "5. Bootstraping & Confidence Interval:\n",
    "\n",
    "This study aims to calculate the average per capita personal income within our dataset, taking into account various socioeconomic and policy-related factors that may affect vehicular fatality rates.\n",
    "\n",
    "The BCa (Bias-Corrected and Accelerated) 95% confidence interval spans from 9.509 to 9.544. This interval is created using the bootstrap distribution and is modified to account for both bias and skewness in the bootstrap estimates.\n",
    "\n",
    "6. MSPE and F-tests\n",
    "\n",
    "The objective is to forecast the number of automobile fatalities (log_fatal) by utilizing several socioeconomic and demographic factors in the United States.\n",
    "\n",
    "1st MSPE: 0.4148086 (Full model)\n",
    "\n",
    "2nd MSPE: After dropping log_youngdrivers: 0.4218161\n",
    "\n",
    "3rd MSPE: After dropping log_miles: 0.4281197\n",
    "\n",
    "Conclusion:\n",
    "\n",
    "The study was deliberate and significant in terms of socioeconomical and traffic fatalities in the country. From the extensive analysis, the ANOVA test highlighted fatality disparities among income quartiles, t-test confirmed negative correlation between beertax and martality rate, also determined no dependence inbetween number of miles and fatalities. Th study also yields a refined predictive model using MSPE & F-test which predicts fatalities using other dependent variables, bootstrap estimates supports the income distribution for large number samples as well and finally the randomization substantiated income has nothing to do with fatalities among young drivers.\n",
    "\n",
    "The learnings would be how the various statistical findings helped in illustrating the power of data to address issue socioeconomic and public health. Moving forward, it will help policy makers to distinctively decide on the basis of outcomes.\n",
    "\n",
    "In order to extend this research, data from multiple countries can be incorporated to test the goodness of the models, a longitudinal study would suffice to check the changes over time. Additionally, assess the effectiveness of public health campaign and the before and after decisions of policymakers."
   ]
  },
  {
   "cell_type": "code",
   "execution_count": null,
   "metadata": {
    "id": "a6nVU8bpX05x"
   },
   "outputs": [],
   "source": [
    "# Because of the result it took more than 2 pages"
   ]
  }
 ],
 "metadata": {
  "colab": {
   "provenance": []
  },
  "kernelspec": {
   "display_name": "R",
   "language": "R",
   "name": "ir"
  },
  "language_info": {
   "codemirror_mode": "r",
   "file_extension": ".r",
   "mimetype": "text/x-r-source",
   "name": "R",
   "pygments_lexer": "r",
   "version": "4.3.1"
  }
 },
 "nbformat": 4,
 "nbformat_minor": 4
}
